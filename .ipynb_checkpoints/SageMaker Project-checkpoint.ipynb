{
 "cells": [
  {
   "cell_type": "markdown",
   "metadata": {},
   "source": [
    "# Creating a Sentiment Analysis Web App\n",
    "## Using PyTorch and SageMaker\n",
    "\n",
    "_Deep Learning Nanodegree Program | Deployment_\n",
    "\n",
    "---\n",
    "\n",
    "Now that we have a basic understanding of how SageMaker works we will try to use it to construct a complete project from end to end. Our goal will be to have a simple web page which a user can use to enter a movie review. The web page will then send the review off to our deployed model which will predict the sentiment of the entered review.\n",
    "\n",
    "## Instructions\n",
    "\n",
    "Some template code has already been provided for you, and you will need to implement additional functionality to successfully complete this notebook. You will not need to modify the included code beyond what is requested. Sections that begin with '**TODO**' in the header indicate that you need to complete or implement some portion within them. Instructions will be provided for each section and the specifics of the implementation are marked in the code block with a `# TODO: ...` comment. Please be sure to read the instructions carefully!\n",
    "\n",
    "In addition to implementing code, there will be questions for you to answer which relate to the task and your implementation. Each section where you will answer a question is preceded by a '**Question:**' header. Carefully read each question and provide your answer below the '**Answer:**' header by editing the Markdown cell.\n",
    "\n",
    "> **Note**: Code and Markdown cells can be executed using the **Shift+Enter** keyboard shortcut. In addition, a cell can be edited by typically clicking it (double-click for Markdown cells) or by pressing **Enter** while it is highlighted.\n",
    "\n",
    "## General Outline\n",
    "\n",
    "Recall the general outline for SageMaker projects using a notebook instance.\n",
    "\n",
    "1. Download or otherwise retrieve the data.\n",
    "2. Process / Prepare the data.\n",
    "3. Upload the processed data to S3.\n",
    "4. Train a chosen model.\n",
    "5. Test the trained model (typically using a batch transform job).\n",
    "6. Deploy the trained model.\n",
    "7. Use the deployed model.\n",
    "\n",
    "For this project, you will be following the steps in the general outline with some modifications. \n",
    "\n",
    "First, you will not be testing the model in its own step. You will still be testing the model, however, you will do it by deploying your model and then using the deployed model by sending the test data to it. One of the reasons for doing this is so that you can make sure that your deployed model is working correctly before moving forward.\n",
    "\n",
    "In addition, you will deploy and use your trained model a second time. In the second iteration you will customize the way that your trained model is deployed by including some of your own code. In addition, your newly deployed model will be used in the sentiment analysis web app."
   ]
  },
  {
   "cell_type": "markdown",
   "metadata": {},
   "source": [
    "## Step 1: Downloading the data\n",
    "\n",
    "As in the XGBoost in SageMaker notebook, we will be using the [IMDb dataset](http://ai.stanford.edu/~amaas/data/sentiment/)\n",
    "\n",
    "> Maas, Andrew L., et al. [Learning Word Vectors for Sentiment Analysis](http://ai.stanford.edu/~amaas/data/sentiment/). In _Proceedings of the 49th Annual Meeting of the Association for Computational Linguistics: Human Language Technologies_. Association for Computational Linguistics, 2011."
   ]
  },
  {
   "cell_type": "code",
   "execution_count": 1,
   "metadata": {},
   "outputs": [
    {
     "name": "stdout",
     "output_type": "stream",
     "text": [
      "mkdir: cannot create directory ‘../data’: File exists\n",
      "--2020-09-03 14:49:42--  http://ai.stanford.edu/~amaas/data/sentiment/aclImdb_v1.tar.gz\n",
      "Resolving ai.stanford.edu (ai.stanford.edu)... 171.64.68.10\n",
      "Connecting to ai.stanford.edu (ai.stanford.edu)|171.64.68.10|:80... connected.\n",
      "HTTP request sent, awaiting response... 200 OK\n",
      "Length: 84125825 (80M) [application/x-gzip]\n",
      "Saving to: ‘../data/aclImdb_v1.tar.gz’\n",
      "\n",
      "../data/aclImdb_v1. 100%[===================>]  80.23M  23.2MB/s    in 4.3s    \n",
      "\n",
      "2020-09-03 14:49:46 (18.6 MB/s) - ‘../data/aclImdb_v1.tar.gz’ saved [84125825/84125825]\n",
      "\n"
     ]
    }
   ],
   "source": [
    "%mkdir ../data\n",
    "!wget -O ../data/aclImdb_v1.tar.gz http://ai.stanford.edu/~amaas/data/sentiment/aclImdb_v1.tar.gz\n",
    "!tar -zxf ../data/aclImdb_v1.tar.gz -C ../data"
   ]
  },
  {
   "cell_type": "markdown",
   "metadata": {},
   "source": [
    "## Step 2: Preparing and Processing the data\n",
    "\n",
    "Also, as in the XGBoost notebook, we will be doing some initial data processing. The first few steps are the same as in the XGBoost example. To begin with, we will read in each of the reviews and combine them into a single input structure. Then, we will split the dataset into a training set and a testing set."
   ]
  },
  {
   "cell_type": "code",
   "execution_count": 2,
   "metadata": {},
   "outputs": [],
   "source": [
    "import os\n",
    "import glob\n",
    "\n",
    "def read_imdb_data(data_dir='../data/aclImdb'):\n",
    "    data = {}\n",
    "    labels = {}\n",
    "    \n",
    "    for data_type in ['train', 'test']:\n",
    "        data[data_type] = {}\n",
    "        labels[data_type] = {}\n",
    "        \n",
    "        for sentiment in ['pos', 'neg']:\n",
    "            data[data_type][sentiment] = []\n",
    "            labels[data_type][sentiment] = []\n",
    "            \n",
    "            path = os.path.join(data_dir, data_type, sentiment, '*.txt')\n",
    "            files = glob.glob(path)\n",
    "            \n",
    "            for f in files:\n",
    "                with open(f) as review:\n",
    "                    data[data_type][sentiment].append(review.read())\n",
    "                    # Here we represent a positive review by '1' and a negative review by '0'\n",
    "                    labels[data_type][sentiment].append(1 if sentiment == 'pos' else 0)\n",
    "                    \n",
    "            assert len(data[data_type][sentiment]) == len(labels[data_type][sentiment]), \\\n",
    "                    \"{}/{} data size does not match labels size\".format(data_type, sentiment)\n",
    "                \n",
    "    return data, labels"
   ]
  },
  {
   "cell_type": "code",
   "execution_count": 3,
   "metadata": {},
   "outputs": [
    {
     "name": "stdout",
     "output_type": "stream",
     "text": [
      "IMDB reviews: train = 12500 pos / 12500 neg, test = 12500 pos / 12500 neg\n"
     ]
    }
   ],
   "source": [
    "data, labels = read_imdb_data()\n",
    "print(\"IMDB reviews: train = {} pos / {} neg, test = {} pos / {} neg\".format(\n",
    "            len(data['train']['pos']), len(data['train']['neg']),\n",
    "            len(data['test']['pos']), len(data['test']['neg'])))"
   ]
  },
  {
   "cell_type": "markdown",
   "metadata": {},
   "source": [
    "Now that we've read the raw training and testing data from the downloaded dataset, we will combine the positive and negative reviews and shuffle the resulting records."
   ]
  },
  {
   "cell_type": "code",
   "execution_count": 4,
   "metadata": {},
   "outputs": [],
   "source": [
    "from sklearn.utils import shuffle\n",
    "\n",
    "def prepare_imdb_data(data, labels):\n",
    "    \"\"\"Prepare training and test sets from IMDb movie reviews.\"\"\"\n",
    "    \n",
    "    #Combine positive and negative reviews and labels\n",
    "    data_train = data['train']['pos'] + data['train']['neg']\n",
    "    data_test = data['test']['pos'] + data['test']['neg']\n",
    "    labels_train = labels['train']['pos'] + labels['train']['neg']\n",
    "    labels_test = labels['test']['pos'] + labels['test']['neg']\n",
    "    \n",
    "    #Shuffle reviews and corresponding labels within training and test sets\n",
    "    data_train, labels_train = shuffle(data_train, labels_train)\n",
    "    data_test, labels_test = shuffle(data_test, labels_test)\n",
    "    \n",
    "    # Return a unified training data, test data, training labels, test labets\n",
    "    return data_train, data_test, labels_train, labels_test"
   ]
  },
  {
   "cell_type": "code",
   "execution_count": 5,
   "metadata": {},
   "outputs": [
    {
     "name": "stdout",
     "output_type": "stream",
     "text": [
      "IMDb reviews (combined): train = 25000, test = 25000\n"
     ]
    }
   ],
   "source": [
    "train_X, test_X, train_y, test_y = prepare_imdb_data(data, labels)\n",
    "print(\"IMDb reviews (combined): train = {}, test = {}\".format(len(train_X), len(test_X)))"
   ]
  },
  {
   "cell_type": "markdown",
   "metadata": {},
   "source": [
    "Now that we have our training and testing sets unified and prepared, we should do a quick check and see an example of the data our model will be trained on. This is generally a good idea as it allows you to see how each of the further processing steps affects the reviews and it also ensures that the data has been loaded correctly."
   ]
  },
  {
   "cell_type": "code",
   "execution_count": 6,
   "metadata": {},
   "outputs": [
    {
     "name": "stdout",
     "output_type": "stream",
     "text": [
      "I often feel like Scrooge, slamming movies that others are raving about - or, I write the review to balance unwarranted raves. I found this movie almost unwatchable, and, unusual for me, was fast-forwarding not only through dull, clichéd dialog but even dull, clichéd musical numbers. Whatever originality exists in this film -- unusual domestic setting for a musical, lots of fantasy, some animation -- is more than offset by a script that has not an ounce of wit or thought-provoking plot development. Individually, June Haver and Dan Dailey appear to be nice people, but can't carry a movie as a team. Neither is really charismatic or has much sex appeal. They're both bland. I like Billy Gray, but his character is pretty one-note. The best part of the film, to me, are June Haver's beautiful costumes and great body.\n",
      "0\n"
     ]
    }
   ],
   "source": [
    "print(train_X[100])\n",
    "print(train_y[100])"
   ]
  },
  {
   "cell_type": "markdown",
   "metadata": {},
   "source": [
    "The first step in processing the reviews is to make sure that any html tags that appear should be removed. In addition we wish to tokenize our input, that way words such as *entertained* and *entertaining* are considered the same with regard to sentiment analysis."
   ]
  },
  {
   "cell_type": "code",
   "execution_count": 7,
   "metadata": {},
   "outputs": [],
   "source": [
    "import nltk\n",
    "from nltk.corpus import stopwords\n",
    "from nltk.stem.porter import *\n",
    "\n",
    "import re\n",
    "from bs4 import BeautifulSoup\n",
    "\n",
    "def review_to_words(review):\n",
    "    nltk.download(\"stopwords\", quiet=True)\n",
    "    stemmer = PorterStemmer()\n",
    "    \n",
    "    text = BeautifulSoup(review, \"html.parser\").get_text() # Remove HTML tags\n",
    "    text = re.sub(r\"[^a-zA-Z0-9]\", \" \", text.lower()) # Convert to lower case\n",
    "    words = text.split() # Split string into words\n",
    "    words = [w for w in words if w not in stopwords.words(\"english\")] # Remove stopwords\n",
    "    words = [PorterStemmer().stem(w) for w in words] # stem\n",
    "    \n",
    "    return words"
   ]
  },
  {
   "cell_type": "markdown",
   "metadata": {},
   "source": [
    "The `review_to_words` method defined above uses `BeautifulSoup` to remove any html tags that appear and uses the `nltk` package to tokenize the reviews. As a check to ensure we know how everything is working, try applying `review_to_words` to one of the reviews in the training set."
   ]
  },
  {
   "cell_type": "code",
   "execution_count": 8,
   "metadata": {},
   "outputs": [
    {
     "data": {
      "text/plain": [
       "['often',\n",
       " 'feel',\n",
       " 'like',\n",
       " 'scroog',\n",
       " 'slam',\n",
       " 'movi',\n",
       " 'other',\n",
       " 'rave',\n",
       " 'write',\n",
       " 'review',\n",
       " 'balanc',\n",
       " 'unwarr',\n",
       " 'rave',\n",
       " 'found',\n",
       " 'movi',\n",
       " 'almost',\n",
       " 'unwatch',\n",
       " 'unusu',\n",
       " 'fast',\n",
       " 'forward',\n",
       " 'dull',\n",
       " 'clich',\n",
       " 'dialog',\n",
       " 'even',\n",
       " 'dull',\n",
       " 'clich',\n",
       " 'music',\n",
       " 'number',\n",
       " 'whatev',\n",
       " 'origin',\n",
       " 'exist',\n",
       " 'film',\n",
       " 'unusu',\n",
       " 'domest',\n",
       " 'set',\n",
       " 'music',\n",
       " 'lot',\n",
       " 'fantasi',\n",
       " 'anim',\n",
       " 'offset',\n",
       " 'script',\n",
       " 'ounc',\n",
       " 'wit',\n",
       " 'thought',\n",
       " 'provok',\n",
       " 'plot',\n",
       " 'develop',\n",
       " 'individu',\n",
       " 'june',\n",
       " 'haver',\n",
       " 'dan',\n",
       " 'dailey',\n",
       " 'appear',\n",
       " 'nice',\n",
       " 'peopl',\n",
       " 'carri',\n",
       " 'movi',\n",
       " 'team',\n",
       " 'neither',\n",
       " 'realli',\n",
       " 'charismat',\n",
       " 'much',\n",
       " 'sex',\n",
       " 'appeal',\n",
       " 'bland',\n",
       " 'like',\n",
       " 'billi',\n",
       " 'gray',\n",
       " 'charact',\n",
       " 'pretti',\n",
       " 'one',\n",
       " 'note',\n",
       " 'best',\n",
       " 'part',\n",
       " 'film',\n",
       " 'june',\n",
       " 'haver',\n",
       " 'beauti',\n",
       " 'costum',\n",
       " 'great',\n",
       " 'bodi']"
      ]
     },
     "execution_count": 8,
     "metadata": {},
     "output_type": "execute_result"
    }
   ],
   "source": [
    "# TODO: Apply review_to_words to a review (train_X[100] or any other review)\n",
    "review_to_words(train_X[100])"
   ]
  },
  {
   "cell_type": "markdown",
   "metadata": {},
   "source": [
    "**Question:** Above we mentioned that `review_to_words` method removes html formatting and allows us to tokenize the words found in a review, for example, converting *entertained* and *entertaining* into *entertain* so that they are treated as though they are the same word. What else, if anything, does this method do to the input?"
   ]
  },
  {
   "cell_type": "markdown",
   "metadata": {},
   "source": [
    "**Answer:** It splits strings to words. converts all words to lower case and also removes stop words"
   ]
  },
  {
   "cell_type": "markdown",
   "metadata": {},
   "source": [
    "The method below applies the `review_to_words` method to each of the reviews in the training and testing datasets. In addition it caches the results. This is because performing this processing step can take a long time. This way if you are unable to complete the notebook in the current session, you can come back without needing to process the data a second time."
   ]
  },
  {
   "cell_type": "code",
   "execution_count": 9,
   "metadata": {},
   "outputs": [],
   "source": [
    "import pickle\n",
    "\n",
    "cache_dir = os.path.join(\"../cache\", \"sentiment_analysis\")  # where to store cache files\n",
    "os.makedirs(cache_dir, exist_ok=True)  # ensure cache directory exists\n",
    "\n",
    "def preprocess_data(data_train, data_test, labels_train, labels_test,\n",
    "                    cache_dir=cache_dir, cache_file=\"preprocessed_data.pkl\"):\n",
    "    \"\"\"Convert each review to words; read from cache if available.\"\"\"\n",
    "\n",
    "    # If cache_file is not None, try to read from it first\n",
    "    cache_data = None\n",
    "    if cache_file is not None:\n",
    "        try:\n",
    "            with open(os.path.join(cache_dir, cache_file), \"rb\") as f:\n",
    "                cache_data = pickle.load(f)\n",
    "            print(\"Read preprocessed data from cache file:\", cache_file)\n",
    "        except:\n",
    "            pass  # unable to read from cache, but that's okay\n",
    "    \n",
    "    # If cache is missing, then do the heavy lifting\n",
    "    if cache_data is None:\n",
    "        # Preprocess training and test data to obtain words for each review\n",
    "        #words_train = list(map(review_to_words, data_train))\n",
    "        #words_test = list(map(review_to_words, data_test))\n",
    "        words_train = [review_to_words(review) for review in data_train]\n",
    "        words_test = [review_to_words(review) for review in data_test]\n",
    "        \n",
    "        # Write to cache file for future runs\n",
    "        if cache_file is not None:\n",
    "            cache_data = dict(words_train=words_train, words_test=words_test,\n",
    "                              labels_train=labels_train, labels_test=labels_test)\n",
    "            with open(os.path.join(cache_dir, cache_file), \"wb\") as f:\n",
    "                pickle.dump(cache_data, f)\n",
    "            print(\"Wrote preprocessed data to cache file:\", cache_file)\n",
    "    else:\n",
    "        # Unpack data loaded from cache file\n",
    "        words_train, words_test, labels_train, labels_test = (cache_data['words_train'],\n",
    "                cache_data['words_test'], cache_data['labels_train'], cache_data['labels_test'])\n",
    "    \n",
    "    return words_train, words_test, labels_train, labels_test"
   ]
  },
  {
   "cell_type": "code",
   "execution_count": 10,
   "metadata": {},
   "outputs": [
    {
     "name": "stdout",
     "output_type": "stream",
     "text": [
      "Wrote preprocessed data to cache file: preprocessed_data.pkl\n"
     ]
    }
   ],
   "source": [
    "# Preprocess data\n",
    "train_X, test_X, train_y, test_y = preprocess_data(train_X, test_X, train_y, test_y)"
   ]
  },
  {
   "cell_type": "markdown",
   "metadata": {},
   "source": [
    "## Transform the data\n",
    "\n",
    "In the XGBoost notebook we transformed the data from its word representation to a bag-of-words feature representation. For the model we are going to construct in this notebook we will construct a feature representation which is very similar. To start, we will represent each word as an integer. Of course, some of the words that appear in the reviews occur very infrequently and so likely don't contain much information for the purposes of sentiment analysis. The way we will deal with this problem is that we will fix the size of our working vocabulary and we will only include the words that appear most frequently. We will then combine all of the infrequent words into a single category and, in our case, we will label it as `1`.\n",
    "\n",
    "Since we will be using a recurrent neural network, it will be convenient if the length of each review is the same. To do this, we will fix a size for our reviews and then pad short reviews with the category 'no word' (which we will label `0`) and truncate long reviews."
   ]
  },
  {
   "cell_type": "markdown",
   "metadata": {},
   "source": [
    "### (TODO) Create a word dictionary\n",
    "\n",
    "To begin with, we need to construct a way to map words that appear in the reviews to integers. Here we fix the size of our vocabulary (including the 'no word' and 'infrequent' categories) to be `5000` but you may wish to change this to see how it affects the model.\n",
    "\n",
    "> **TODO:** Complete the implementation for the `build_dict()` method below. Note that even though the vocab_size is set to `5000`, we only want to construct a mapping for the most frequently appearing `4998` words. This is because we want to reserve the special labels `0` for 'no word' and `1` for 'infrequent word'."
   ]
  },
  {
   "cell_type": "code",
   "execution_count": 21,
   "metadata": {},
   "outputs": [],
   "source": [
    "import numpy as np\n",
    "from collections import Counter\n",
    "\n",
    "def build_dict(data, vocab_size = 5000):\n",
    "    \"\"\"Construct and return a dictionary mapping each of the most frequently appearing words to a unique integer.\"\"\"\n",
    "    \n",
    "    # TODO: Determine how often each word appears in `data`. Note that `data` is a list of sentences and that a\n",
    "    #       sentence is a list of words.\n",
    "    \n",
    "    #list of words\n",
    "    words_list = []\n",
    "    for sent in data:\n",
    "        for word in sent:\n",
    "            words_list.append(word)\n",
    "        \n",
    "    \n",
    "    \n",
    "    \n",
    "    word_count = Counter(words_list) # A dict storing the words that appear in the reviews along with how often they occur\n",
    "    \n",
    "    # TODO: Sort the words found in `data` so that sorted_words[0] is the most frequently appearing word and\n",
    "    #       sorted_words[-1] is the least frequently appearing word.\n",
    "    \n",
    "    common_words = dict(word_count.most_common())\n",
    "    sorted_words = [k for k,v in common_words.items()]\n",
    "    \n",
    "    word_dict = {} # This is what we are building, a dictionary that translates words into integers\n",
    "    for idx, word in enumerate(sorted_words[:vocab_size - 2]): # The -2 is so that we save room for the 'no word'\n",
    "        word_dict[word] = idx + 2                              # 'infrequent' labels\n",
    "        \n",
    "    return word_dict"
   ]
  },
  {
   "cell_type": "code",
   "execution_count": 23,
   "metadata": {},
   "outputs": [
    {
     "name": "stdout",
     "output_type": "stream",
     "text": [
      "{'movi': 2, 'film': 3, 'one': 4, 'like': 5, 'time': 6, 'good': 7, 'make': 8, 'charact': 9, 'get': 10, 'see': 11, 'watch': 12, 'stori': 13, 'even': 14, 'would': 15, 'realli': 16, 'well': 17, 'scene': 18, 'look': 19, 'show': 20, 'much': 21, 'end': 22, 'peopl': 23, 'bad': 24, 'go': 25, 'great': 26, 'also': 27, 'first': 28, 'love': 29, 'think': 30, 'way': 31, 'act': 32, 'play': 33, 'made': 34, 'thing': 35, 'could': 36, 'know': 37, 'say': 38, 'seem': 39, 'work': 40, 'plot': 41, 'two': 42, 'actor': 43, 'year': 44, 'come': 45, 'mani': 46, 'seen': 47, 'take': 48, 'life': 49, 'want': 50, 'never': 51, 'littl': 52, 'best': 53, 'tri': 54, 'man': 55, 'ever': 56, 'give': 57, 'better': 58, 'still': 59, 'perform': 60, 'find': 61, 'feel': 62, 'part': 63, 'back': 64, 'use': 65, 'someth': 66, 'director': 67, 'actual': 68, 'interest': 69, 'lot': 70, 'real': 71, 'old': 72, 'cast': 73, 'though': 74, 'live': 75, 'star': 76, 'enjoy': 77, 'guy': 78, 'anoth': 79, 'new': 80, 'role': 81, 'noth': 82, '10': 83, 'funni': 84, 'music': 85, 'point': 86, 'start': 87, 'set': 88, 'girl': 89, 'origin': 90, 'day': 91, 'world': 92, 'everi': 93, 'believ': 94, 'turn': 95, 'quit': 96, 'us': 97, 'direct': 98, 'thought': 99, 'fact': 100, 'minut': 101, 'horror': 102, 'kill': 103, 'action': 104, 'comedi': 105, 'pretti': 106, 'young': 107, 'wonder': 108, 'happen': 109, 'around': 110, 'got': 111, 'effect': 112, 'right': 113, 'long': 114, 'howev': 115, 'big': 116, 'line': 117, 'famili': 118, 'enough': 119, 'seri': 120, 'may': 121, 'need': 122, 'fan': 123, 'bit': 124, 'script': 125, 'beauti': 126, 'person': 127, 'becom': 128, 'without': 129, 'must': 130, 'alway': 131, 'friend': 132, 'tell': 133, 'reason': 134, 'saw': 135, 'last': 136, 'final': 137, 'kid': 138, 'almost': 139, 'put': 140, 'least': 141, 'sure': 142, 'done': 143, 'whole': 144, 'place': 145, 'complet': 146, 'kind': 147, 'differ': 148, 'expect': 149, 'shot': 150, 'far': 151, 'mean': 152, 'anyth': 153, 'book': 154, 'laugh': 155, 'might': 156, 'name': 157, 'sinc': 158, 'begin': 159, '2': 160, 'probabl': 161, 'woman': 162, 'help': 163, 'entertain': 164, 'let': 165, 'screen': 166, 'call': 167, 'tv': 168, 'moment': 169, 'away': 170, 'read': 171, 'yet': 172, 'rather': 173, 'worst': 174, 'run': 175, 'fun': 176, 'lead': 177, 'hard': 178, 'audienc': 179, 'idea': 180, 'anyon': 181, 'episod': 182, 'american': 183, 'found': 184, 'appear': 185, 'bore': 186, 'especi': 187, 'although': 188, 'hope': 189, 'cours': 190, 'keep': 191, 'anim': 192, 'job': 193, 'goe': 194, 'move': 195, 'sens': 196, 'dvd': 197, 'version': 198, 'war': 199, 'money': 200, 'someon': 201, 'mind': 202, 'mayb': 203, 'problem': 204, 'true': 205, 'hous': 206, 'everyth': 207, 'nice': 208, 'second': 209, 'rate': 210, 'three': 211, 'night': 212, 'follow': 213, 'face': 214, 'recommend': 215, 'main': 216, 'product': 217, 'worth': 218, 'leav': 219, 'human': 220, 'special': 221, 'excel': 222, 'togeth': 223, 'wast': 224, 'sound': 225, 'everyon': 226, 'john': 227, 'hand': 228, '1': 229, 'father': 230, 'later': 231, 'eye': 232, 'said': 233, 'view': 234, 'instead': 235, 'review': 236, 'boy': 237, 'high': 238, 'hour': 239, 'miss': 240, 'classic': 241, 'talk': 242, 'wife': 243, 'understand': 244, 'left': 245, 'care': 246, 'black': 247, 'death': 248, 'open': 249, 'murder': 250, 'write': 251, 'half': 252, 'head': 253, 'rememb': 254, 'chang': 255, 'viewer': 256, 'fight': 257, 'gener': 258, 'surpris': 259, 'includ': 260, 'short': 261, 'die': 262, 'fall': 263, 'less': 264, 'els': 265, 'entir': 266, 'piec': 267, 'involv': 268, 'pictur': 269, 'simpli': 270, 'top': 271, 'home': 272, 'power': 273, 'total': 274, 'usual': 275, 'budget': 276, 'attempt': 277, 'suppos': 278, 'releas': 279, 'hollywood': 280, 'terribl': 281, 'song': 282, 'men': 283, 'possibl': 284, 'featur': 285, 'portray': 286, 'disappoint': 287, '3': 288, 'poor': 289, 'coupl': 290, 'stupid': 291, 'camera': 292, 'dead': 293, 'wrong': 294, 'produc': 295, 'low': 296, 'either': 297, 'video': 298, 'aw': 299, 'definit': 300, 'except': 301, 'rest': 302, 'given': 303, 'absolut': 304, 'women': 305, 'lack': 306, 'word': 307, 'writer': 308, 'titl': 309, 'talent': 310, 'decid': 311, 'full': 312, 'perfect': 313, 'along': 314, 'style': 315, 'close': 316, 'truli': 317, 'school': 318, 'save': 319, 'emot': 320, 'sex': 321, 'age': 322, 'next': 323, 'bring': 324, 'mr': 325, 'case': 326, 'killer': 327, 'heart': 328, 'comment': 329, 'sort': 330, 'creat': 331, 'perhap': 332, 'came': 333, 'brother': 334, 'sever': 335, 'joke': 336, 'art': 337, 'dialogu': 338, 'game': 339, 'small': 340, 'base': 341, 'flick': 342, 'written': 343, 'sequenc': 344, 'meet': 345, 'earli': 346, 'often': 347, 'other': 348, 'mother': 349, 'develop': 350, 'humor': 351, 'actress': 352, 'consid': 353, 'dark': 354, 'guess': 355, 'amaz': 356, 'unfortun': 357, 'lost': 358, 'light': 359, 'exampl': 360, 'cinema': 361, 'drama': 362, 'ye': 363, 'white': 364, 'experi': 365, 'imagin': 366, 'mention': 367, 'stop': 368, 'natur': 369, 'forc': 370, 'manag': 371, 'felt': 372, 'present': 373, 'cut': 374, 'children': 375, 'fail': 376, 'son': 377, 'qualiti': 378, 'support': 379, 'car': 380, 'ask': 381, 'hit': 382, 'side': 383, 'voic': 384, 'extrem': 385, 'impress': 386, 'evil': 387, 'wors': 388, 'went': 389, 'stand': 390, 'certainli': 391, 'basic': 392, 'oh': 393, 'overal': 394, 'favorit': 395, 'horribl': 396, 'mysteri': 397, 'number': 398, 'type': 399, 'danc': 400, 'wait': 401, 'hero': 402, '5': 403, 'alreadi': 404, 'learn': 405, 'matter': 406, '4': 407, 'michael': 408, 'genr': 409, 'fine': 410, 'despit': 411, 'throughout': 412, 'walk': 413, 'success': 414, 'histori': 415, 'question': 416, 'zombi': 417, 'town': 418, 'relationship': 419, 'realiz': 420, 'past': 421, 'child': 422, 'daughter': 423, 'late': 424, 'b': 425, 'wish': 426, 'credit': 427, 'hate': 428, 'event': 429, 'theme': 430, 'touch': 431, 'citi': 432, 'today': 433, 'sometim': 434, 'behind': 435, 'god': 436, 'twist': 437, 'sit': 438, 'deal': 439, 'annoy': 440, 'stay': 441, 'abl': 442, 'rent': 443, 'pleas': 444, 'edit': 445, 'blood': 446, 'deserv': 447, 'comic': 448, 'anyway': 449, 'appar': 450, 'soon': 451, 'gave': 452, 'etc': 453, 'level': 454, 'slow': 455, 'chanc': 456, 'score': 457, 'bodi': 458, 'brilliant': 459, 'incred': 460, 'figur': 461, 'situat': 462, 'major': 463, 'self': 464, 'stuff': 465, 'decent': 466, 'element': 467, 'return': 468, 'dream': 469, 'obvious': 470, 'order': 471, 'continu': 472, 'pace': 473, 'ridicul': 474, 'happi': 475, 'highli': 476, 'add': 477, 'group': 478, 'thank': 479, 'ladi': 480, 'novel': 481, 'speak': 482, 'pain': 483, 'career': 484, 'shoot': 485, 'strang': 486, 'heard': 487, 'sad': 488, 'husband': 489, 'polic': 490, 'import': 491, 'break': 492, 'took': 493, 'strong': 494, 'cannot': 495, 'predict': 496, 'robert': 497, 'violenc': 498, 'hilari': 499, 'recent': 500, 'countri': 501, 'known': 502, 'particularli': 503, 'pick': 504, 'documentari': 505, 'season': 506, 'critic': 507, 'jame': 508, 'compar': 509, 'obviou': 510, 'alon': 511, 'told': 512, 'state': 513, 'rock': 514, 'visual': 515, 'exist': 516, 'offer': 517, 'theater': 518, 'opinion': 519, 'gore': 520, 'hold': 521, 'crap': 522, 'result': 523, 'hear': 524, 'realiti': 525, 'room': 526, 'clich': 527, 'effort': 528, 'thriller': 529, 'caus': 530, 'explain': 531, 'serious': 532, 'sequel': 533, 'king': 534, 'local': 535, 'ago': 536, 'hell': 537, 'none': 538, 'note': 539, 'allow': 540, 'david': 541, 'sister': 542, 'simpl': 543, 'femal': 544, 'deliv': 545, 'ok': 546, 'class': 547, 'convinc': 548, 'check': 549, 'suspens': 550, 'win': 551, 'oscar': 552, 'buy': 553, 'huge': 554, 'valu': 555, 'sexual': 556, 'scari': 557, 'cool': 558, 'similar': 559, 'excit': 560, 'apart': 561, 'exactli': 562, 'provid': 563, 'shown': 564, 'avoid': 565, 'seriou': 566, 'english': 567, 'whose': 568, 'taken': 569, 'cinematographi': 570, 'shock': 571, 'polit': 572, 'spoiler': 573, 'offic': 574, 'across': 575, 'middl': 576, 'street': 577, 'pass': 578, 'messag': 579, 'somewhat': 580, 'charm': 581, 'silli': 582, 'modern': 583, 'confus': 584, 'filmmak': 585, 'form': 586, 'tale': 587, 'singl': 588, 'jack': 589, 'mostli': 590, 'attent': 591, 'carri': 592, 'william': 593, 'sing': 594, 'five': 595, 'subject': 596, 'prove': 597, 'richard': 598, 'stage': 599, 'team': 600, 'unlik': 601, 'cop': 602, 'georg': 603, 'monster': 604, 'televis': 605, 'earth': 606, 'villain': 607, 'cover': 608, 'pay': 609, 'marri': 610, 'toward': 611, 'build': 612, 'pull': 613, 'parent': 614, 'due': 615, 'fill': 616, 'respect': 617, 'four': 618, 'dialog': 619, 'remind': 620, 'futur': 621, 'weak': 622, 'typic': 623, '7': 624, 'cheap': 625, 'intellig': 626, 'atmospher': 627, 'british': 628, 'clearli': 629, '80': 630, 'dog': 631, 'paul': 632, 'non': 633, 'knew': 634, 'fast': 635, 'artist': 636, '8': 637, 'crime': 638, 'easili': 639, 'escap': 640, 'adult': 641, 'doubt': 642, 'detail': 643, 'date': 644, 'member': 645, 'fire': 646, 'romant': 647, 'drive': 648, 'gun': 649, 'straight': 650, 'beyond': 651, 'fit': 652, 'attack': 653, 'imag': 654, 'upon': 655, 'posit': 656, 'whether': 657, 'fantast': 658, 'peter': 659, 'aspect': 660, 'appreci': 661, 'captur': 662, 'ten': 663, 'plan': 664, 'discov': 665, 'remain': 666, 'near': 667, 'period': 668, 'air': 669, 'realist': 670, 'mark': 671, 'red': 672, 'dull': 673, 'adapt': 674, 'within': 675, 'lose': 676, 'spend': 677, 'color': 678, 'materi': 679, 'chase': 680, 'mari': 681, 'storylin': 682, 'forget': 683, 'bunch': 684, 'clear': 685, 'lee': 686, 'victim': 687, 'nearli': 688, 'box': 689, 'york': 690, 'inspir': 691, 'match': 692, 'finish': 693, 'mess': 694, 'standard': 695, 'easi': 696, 'truth': 697, 'suffer': 698, 'busi': 699, 'dramat': 700, 'space': 701, 'bill': 702, 'western': 703, 'e': 704, 'list': 705, 'battl': 706, 'notic': 707, 'de': 708, 'french': 709, 'ad': 710, '9': 711, 'tom': 712, 'larg': 713, 'among': 714, 'eventu': 715, 'train': 716, 'accept': 717, 'agre': 718, 'spirit': 719, 'soundtrack': 720, 'third': 721, 'teenag': 722, 'adventur': 723, 'soldier': 724, 'suggest': 725, 'sorri': 726, 'famou': 727, 'drug': 728, 'babi': 729, 'cri': 730, 'normal': 731, 'troubl': 732, 'ultim': 733, 'contain': 734, 'certain': 735, 'cultur': 736, 'romanc': 737, 'rare': 738, 'lame': 739, 'somehow': 740, 'mix': 741, 'disney': 742, 'gone': 743, 'cartoon': 744, 'student': 745, 'fear': 746, 'reveal': 747, 'suck': 748, 'kept': 749, 'attract': 750, 'appeal': 751, 'premis': 752, 'secret': 753, 'design': 754, 'greatest': 755, 'shame': 756, 'throw': 757, 'scare': 758, 'copi': 759, 'wit': 760, 'america': 761, 'admit': 762, 'brought': 763, 'relat': 764, 'particular': 765, 'screenplay': 766, 'whatev': 767, 'pure': 768, '70': 769, 'harri': 770, 'averag': 771, 'master': 772, 'describ': 773, 'treat': 774, 'male': 775, '20': 776, 'fantasi': 777, 'issu': 778, 'warn': 779, 'inde': 780, 'forward': 781, 'background': 782, 'project': 783, 'free': 784, 'memor': 785, 'japanes': 786, 'poorli': 787, 'award': 788, 'locat': 789, 'amus': 790, 'potenti': 791, 'struggl': 792, 'weird': 793, 'magic': 794, 'societi': 795, 'okay': 796, 'doctor': 797, 'imdb': 798, 'accent': 799, 'hot': 800, 'water': 801, 'alien': 802, 'express': 803, 'dr': 804, '30': 805, 'odd': 806, 'choic': 807, 'crazi': 808, 'studio': 809, 'fiction': 810, 'becam': 811, 'control': 812, 'masterpiec': 813, 'difficult': 814, 'fli': 815, 'joe': 816, 'scream': 817, 'costum': 818, 'lover': 819, 'uniqu': 820, 'refer': 821, 'remak': 822, 'girlfriend': 823, 'vampir': 824, 'prison': 825, 'execut': 826, 'wear': 827, 'jump': 828, 'unless': 829, 'wood': 830, 'creepi': 831, 'cheesi': 832, 'superb': 833, 'otherwis': 834, 'parti': 835, 'ghost': 836, 'roll': 837, 'mad': 838, 'public': 839, 'depict': 840, 'week': 841, 'earlier': 842, 'badli': 843, 'moral': 844, 'jane': 845, 'dumb': 846, 'fi': 847, 'grow': 848, 'flaw': 849, 'deep': 850, 'sci': 851, 'maker': 852, 'cat': 853, 'connect': 854, 'footag': 855, 'older': 856, 'bother': 857, 'plenti': 858, 'outsid': 859, 'stick': 860, 'gay': 861, 'catch': 862, 'plu': 863, 'co': 864, 'popular': 865, 'equal': 866, 'social': 867, 'disturb': 868, 'quickli': 869, 'perfectli': 870, 'dress': 871, '90': 872, 'era': 873, 'mistak': 874, 'lie': 875, 'ride': 876, 'previou': 877, 'combin': 878, 'concept': 879, 'band': 880, 'rich': 881, 'surviv': 882, 'answer': 883, 'front': 884, 'sweet': 885, 'christma': 886, 'insid': 887, 'concern': 888, 'bare': 889, 'eat': 890, 'beat': 891, 'ben': 892, 'listen': 893, 'c': 894, 'term': 895, 'serv': 896, 'german': 897, 'meant': 898, 'la': 899, 'stereotyp': 900, 'hardli': 901, 'innoc': 902, 'law': 903, 'desper': 904, 'promis': 905, 'memori': 906, 'intent': 907, 'cute': 908, 'variou': 909, 'steal': 910, 'inform': 911, 'brain': 912, 'post': 913, 'tone': 914, 'island': 915, 'amount': 916, 'track': 917, 'compani': 918, 'nuditi': 919, 'store': 920, 'claim': 921, 'flat': 922, 'hair': 923, '50': 924, 'univers': 925, 'land': 926, 'danger': 927, 'fairli': 928, 'kick': 929, 'scott': 930, 'player': 931, 'crew': 932, 'plain': 933, 'step': 934, 'toni': 935, 'share': 936, 'centuri': 937, 'tast': 938, 'achiev': 939, 'engag': 940, 'travel': 941, 'cold': 942, 'suit': 943, 'record': 944, 'rip': 945, 'manner': 946, 'sadli': 947, 'tension': 948, 'spot': 949, 'wrote': 950, 'fascin': 951, 'intens': 952, 'familiar': 953, 'depth': 954, 'remark': 955, 'burn': 956, 'histor': 957, 'destroy': 958, 'sleep': 959, 'purpos': 960, 'languag': 961, 'ruin': 962, 'ignor': 963, 'delight': 964, 'unbeliev': 965, 'italian': 966, 'collect': 967, 'abil': 968, 'soul': 969, 'clever': 970, 'detect': 971, 'violent': 972, 'rape': 973, 'reach': 974, 'door': 975, 'scienc': 976, 'liter': 977, 'trash': 978, 'caught': 979, 'commun': 980, 'reveng': 981, 'creatur': 982, 'trip': 983, 'approach': 984, 'intrigu': 985, 'fashion': 986, 'introduc': 987, 'paint': 988, 'skill': 989, 'complex': 990, 'channel': 991, 'camp': 992, 'christian': 993, 'extra': 994, 'hole': 995, 'limit': 996, 'immedi': 997, 'mental': 998, 'ann': 999, 'mere': 1000, 'million': 1001, '6': 1002, 'comput': 1003, 'slightli': 1004, 'slasher': 1005, 'conclus': 1006, 'imposs': 1007, 'suddenli': 1008, 'teen': 1009, 'crimin': 1010, 'neither': 1011, 'spent': 1012, 'physic': 1013, 'nation': 1014, 'respons': 1015, 'planet': 1016, 'receiv': 1017, 'fake': 1018, 'blue': 1019, 'sick': 1020, 'bizarr': 1021, 'embarrass': 1022, 'indian': 1023, 'ring': 1024, '15': 1025, 'pop': 1026, 'drop': 1027, 'drag': 1028, 'haunt': 1029, 'pointless': 1030, 'suspect': 1031, 'edg': 1032, 'search': 1033, 'handl': 1034, 'biggest': 1035, 'common': 1036, 'hurt': 1037, 'arriv': 1038, 'faith': 1039, 'technic': 1040, 'angel': 1041, 'genuin': 1042, 'dad': 1043, 'awesom': 1044, 'f': 1045, 'solid': 1046, 'former': 1047, 'focu': 1048, 'van': 1049, 'colleg': 1050, 'count': 1051, 'tear': 1052, 'heavi': 1053, 'wall': 1054, 'rais': 1055, 'visit': 1056, 'younger': 1057, 'laughabl': 1058, 'excus': 1059, 'fair': 1060, 'sign': 1061, 'cult': 1062, 'motion': 1063, 'key': 1064, 'tough': 1065, 'super': 1066, 'desir': 1067, 'addit': 1068, 'stun': 1069, 'exploit': 1070, 'cloth': 1071, 'smith': 1072, 'tortur': 1073, 'race': 1074, 'davi': 1075, 'author': 1076, 'cross': 1077, 'jim': 1078, 'consist': 1079, 'focus': 1080, 'minor': 1081, 'compel': 1082, 'pathet': 1083, 'chemistri': 1084, 'commit': 1085, 'park': 1086, 'frank': 1087, 'obsess': 1088, 'tradit': 1089, 'grade': 1090, 'asid': 1091, '60': 1092, 'brutal': 1093, 'somewher': 1094, 'steve': 1095, 'depress': 1096, 'explor': 1097, 'opportun': 1098, 'u': 1099, 'rule': 1100, 'grant': 1101, 'besid': 1102, 'honest': 1103, 'dub': 1104, 'anti': 1105, 'trailer': 1106, 'intend': 1107, 'bar': 1108, 'scientist': 1109, 'longer': 1110, 'regard': 1111, 'west': 1112, 'decad': 1113, 'judg': 1114, 'silent': 1115, 'creativ': 1116, 'armi': 1117, 'wild': 1118, 'south': 1119, 'g': 1120, 'stewart': 1121, 'draw': 1122, 'road': 1123, 'govern': 1124, 'boss': 1125, 'ex': 1126, 'practic': 1127, 'motiv': 1128, 'club': 1129, 'gang': 1130, 'surprisingli': 1131, 'festiv': 1132, 'london': 1133, 'page': 1134, 'redeem': 1135, 'green': 1136, 'machin': 1137, 'idiot': 1138, 'aliv': 1139, 'militari': 1140, 'display': 1141, 'thrill': 1142, 'repeat': 1143, 'folk': 1144, 'yeah': 1145, 'nobodi': 1146, '100': 1147, '40': 1148, 'journey': 1149, 'garbag': 1150, 'smile': 1151, 'ground': 1152, 'tire': 1153, 'bought': 1154, 'mood': 1155, 'stone': 1156, 'cost': 1157, 'sam': 1158, 'noir': 1159, 'mouth': 1160, 'terrif': 1161, 'agent': 1162, 'utterli': 1163, 'requir': 1164, 'honestli': 1165, 'area': 1166, 'sexi': 1167, 'geniu': 1168, 'report': 1169, 'humour': 1170, 'enter': 1171, 'investig': 1172, 'glad': 1173, 'serial': 1174, 'occasion': 1175, 'passion': 1176, 'narr': 1177, 'climax': 1178, 'marriag': 1179, 'industri': 1180, 'studi': 1181, 'demon': 1182, 'center': 1183, 'ship': 1184, 'nowher': 1185, 'charli': 1186, 'hors': 1187, 'loos': 1188, 'bear': 1189, 'wow': 1190, 'hang': 1191, 'graphic': 1192, 'giant': 1193, 'admir': 1194, 'send': 1195, 'damn': 1196, 'loud': 1197, 'profession': 1198, 'subtl': 1199, 'rel': 1200, 'nake': 1201, 'blow': 1202, 'bottom': 1203, 'insult': 1204, 'batman': 1205, 'boyfriend': 1206, 'r': 1207, 'kelli': 1208, 'doubl': 1209, 'initi': 1210, 'frame': 1211, 'gem': 1212, 'opera': 1213, 'affect': 1214, 'drawn': 1215, 'cinemat': 1216, 'challeng': 1217, 'church': 1218, 'nightmar': 1219, 'l': 1220, 'fulli': 1221, 'evid': 1222, 'j': 1223, 'seek': 1224, 'conflict': 1225, 'arm': 1226, 'essenti': 1227, 'wind': 1228, 'christoph': 1229, 'grace': 1230, 'henri': 1231, 'witch': 1232, 'assum': 1233, 'narrat': 1234, 'push': 1235, 'hunt': 1236, 'chri': 1237, 'wise': 1238, 'nomin': 1239, 'month': 1240, 'repres': 1241, 'avail': 1242, 'hide': 1243, 'affair': 1244, 'sceneri': 1245, 'thu': 1246, 'smart': 1247, 'justic': 1248, 'bond': 1249, 'interview': 1250, 'flashback': 1251, 'outstand': 1252, 'presenc': 1253, 'satisfi': 1254, 'constantli': 1255, 'central': 1256, 'bed': 1257, 'content': 1258, 'iron': 1259, 'sell': 1260, 'gag': 1261, 'everybodi': 1262, 'slowli': 1263, 'hotel': 1264, 'hire': 1265, 'system': 1266, 'individu': 1267, 'hey': 1268, 'thrown': 1269, 'adam': 1270, 'charl': 1271, 'mediocr': 1272, 'jone': 1273, 'allen': 1274, 'ray': 1275, 'billi': 1276, 'lesson': 1277, 'cameo': 1278, 'photographi': 1279, 'fellow': 1280, 'pari': 1281, 'strike': 1282, 'independ': 1283, 'brief': 1284, 'rise': 1285, 'absurd': 1286, 'neg': 1287, 'phone': 1288, 'impact': 1289, 'model': 1290, 'born': 1291, 'ill': 1292, 'angl': 1293, 'spoil': 1294, 'fresh': 1295, 'likabl': 1296, 'abus': 1297, 'hill': 1298, 'discuss': 1299, 'ahead': 1300, 'sight': 1301, 'sent': 1302, 'photograph': 1303, 'shine': 1304, 'occur': 1305, 'logic': 1306, 'blame': 1307, 'mainli': 1308, 'bruce': 1309, 'skip': 1310, 'commerci': 1311, 'forev': 1312, 'teacher': 1313, 'held': 1314, 'surround': 1315, 'segment': 1316, 'zero': 1317, 'blond': 1318, 'resembl': 1319, 'satir': 1320, 'trap': 1321, 'summer': 1322, 'queen': 1323, 'six': 1324, 'ball': 1325, 'fool': 1326, 'twice': 1327, 'tragedi': 1328, 'sub': 1329, 'reaction': 1330, 'pack': 1331, 'bomb': 1332, 'protagonist': 1333, 'will': 1334, 'hospit': 1335, 'mile': 1336, 'sport': 1337, 'vote': 1338, 'trust': 1339, 'drink': 1340, 'jerri': 1341, 'mom': 1342, 'encount': 1343, 'plane': 1344, 'station': 1345, 'al': 1346, 'program': 1347, 'current': 1348, 'celebr': 1349, 'martin': 1350, 'choos': 1351, 'join': 1352, 'tragic': 1353, 'lord': 1354, 'favourit': 1355, 'field': 1356, 'round': 1357, 'robot': 1358, 'jean': 1359, 'vision': 1360, 'arthur': 1361, 'tie': 1362, 'fortun': 1363, 'roger': 1364, 'random': 1365, 'intern': 1366, 'psycholog': 1367, 'dread': 1368, 'improv': 1369, 'nonsens': 1370, 'prefer': 1371, 'epic': 1372, 'highlight': 1373, 'legend': 1374, 'formula': 1375, 'pleasur': 1376, '11': 1377, 'dollar': 1378, 'tape': 1379, 'porn': 1380, 'wide': 1381, 'gorgeou': 1382, 'fox': 1383, 'thin': 1384, 'object': 1385, 'ugli': 1386, 'buddi': 1387, 'influenc': 1388, 'prepar': 1389, 'nasti': 1390, 'ii': 1391, 'warm': 1392, 'reflect': 1393, 'progress': 1394, 'supposedli': 1395, 'youth': 1396, 'worthi': 1397, 'length': 1398, 'unusu': 1399, 'latter': 1400, 'crash': 1401, 'childhood': 1402, 'superior': 1403, 'shop': 1404, 'seven': 1405, 'remot': 1406, 'theatr': 1407, 'pilot': 1408, 'paid': 1409, 'funniest': 1410, 'disgust': 1411, 'castl': 1412, 'fell': 1413, 'convers': 1414, 'trick': 1415, 'disast': 1416, 'establish': 1417, 'rob': 1418, 'gangster': 1419, 'heaven': 1420, 'disappear': 1421, 'suicid': 1422, 'mine': 1423, 'ident': 1424, 'tend': 1425, 'heroin': 1426, 'decis': 1427, 'mask': 1428, 'forgotten': 1429, 'singer': 1430, 'partner': 1431, 'brian': 1432, 'alan': 1433, 'recogn': 1434, 'desert': 1435, 'p': 1436, 'ms': 1437, 'thoroughli': 1438, 'sky': 1439, 'stuck': 1440, 'accur': 1441, 'replac': 1442, 'market': 1443, 'uncl': 1444, 'seemingli': 1445, 'andi': 1446, 'danni': 1447, 'clue': 1448, 'commentari': 1449, 'eddi': 1450, 'devil': 1451, 'jackson': 1452, 'therefor': 1453, 'pair': 1454, 'refus': 1455, 'that': 1456, 'ed': 1457, 'fault': 1458, 'fate': 1459, 'accid': 1460, 'river': 1461, 'unit': 1462, 'tune': 1463, 'afraid': 1464, 'clean': 1465, 'russian': 1466, 'stephen': 1467, 'hidden': 1468, 'readi': 1469, 'quick': 1470, 'test': 1471, 'captain': 1472, 'irrit': 1473, 'instanc': 1474, 'convey': 1475, 'european': 1476, 'daniel': 1477, 'frustrat': 1478, 'insan': 1479, 'wed': 1480, 'rescu': 1481, 'chines': 1482, 'food': 1483, '1950': 1484, 'dirti': 1485, 'angri': 1486, 'lock': 1487, 'joy': 1488, 'price': 1489, 'steven': 1490, 'cage': 1491, 'bland': 1492, 'anymor': 1493, 'rang': 1494, 'wooden': 1495, 'rush': 1496, 'n': 1497, 'news': 1498, 'jason': 1499, '12': 1500, 'worri': 1501, 'board': 1502, 'twenti': 1503, 'led': 1504, 'martial': 1505, 'hunter': 1506, 'transform': 1507, 'symbol': 1508, 'cgi': 1509, 'sentiment': 1510, 'onto': 1511, 'piti': 1512, 'invent': 1513, 'johnni': 1514, 'x': 1515, 'attitud': 1516, 'process': 1517, 'explan': 1518, 'owner': 1519, 'awar': 1520, 'aim': 1521, 'necessari': 1522, 'energi': 1523, 'favor': 1524, 'floor': 1525, 'target': 1526, 'opposit': 1527, 'religi': 1528, 'blind': 1529, 'insight': 1530, 'chick': 1531, 'window': 1532, 'movement': 1533, 'possess': 1534, 'mountain': 1535, 'comparison': 1536, 'deepli': 1537, 'research': 1538, 'comed': 1539, 'grand': 1540, 'whatsoev': 1541, 'rain': 1542, 'shadow': 1543, 'mid': 1544, 'bank': 1545, 'began': 1546, 'parodi': 1547, 'princ': 1548, 'friendship': 1549, 'pre': 1550, 'weapon': 1551, 'credibl': 1552, 'taylor': 1553, 'flesh': 1554, 'teach': 1555, 'dougla': 1556, 'terror': 1557, 'protect': 1558, 'bloodi': 1559, 'hint': 1560, 'marvel': 1561, 'watchabl': 1562, 'load': 1563, 'drunk': 1564, 'accord': 1565, 'superman': 1566, 'leader': 1567, 'anybodi': 1568, 'brown': 1569, 'freddi': 1570, 'seat': 1571, 'hitler': 1572, 'appropri': 1573, 'tim': 1574, 'jeff': 1575, 'charg': 1576, 'unknown': 1577, 'knock': 1578, 'villag': 1579, 'keaton': 1580, 'unnecessari': 1581, 'media': 1582, 'enemi': 1583, 'england': 1584, 'empti': 1585, 'buck': 1586, 'utter': 1587, 'perspect': 1588, 'craft': 1589, 'wave': 1590, 'strength': 1591, 'dare': 1592, 'kiss': 1593, 'nativ': 1594, 'contrast': 1595, 'correct': 1596, 'ford': 1597, 'soap': 1598, 'nazi': 1599, 'speed': 1600, 'anywher': 1601, 'knowledg': 1602, 'distract': 1603, 'magnific': 1604, 'chill': 1605, 'ice': 1606, '1980': 1607, 'fred': 1608, 'mission': 1609, 'breath': 1610, 'jr': 1611, 'joan': 1612, 'crowd': 1613, 'moon': 1614, 'soft': 1615, 'kate': 1616, '000': 1617, 'frighten': 1618, 'dick': 1619, 'hundr': 1620, 'dan': 1621, 'nick': 1622, 'simon': 1623, 'somebodi': 1624, 'radio': 1625, 'dozen': 1626, 'thousand': 1627, 'shakespear': 1628, 'andrew': 1629, 'academi': 1630, 'loss': 1631, 'quot': 1632, 'vehicl': 1633, 'sum': 1634, 'account': 1635, 'root': 1636, '1970': 1637, 'convent': 1638, 'leg': 1639, 'behavior': 1640, 'gold': 1641, 'regular': 1642, 'pretenti': 1643, 'compet': 1644, 'worker': 1645, 'demand': 1646, 'lynch': 1647, 'notabl': 1648, 'candi': 1649, 'explos': 1650, 'privat': 1651, 'stretch': 1652, 'japan': 1653, 'interpret': 1654, 'constant': 1655, 'debut': 1656, 'tarzan': 1657, 'revolv': 1658, 'prais': 1659, 'translat': 1660, 'sea': 1661, 'spi': 1662, 'sat': 1663, 'technolog': 1664, 'ass': 1665, 'quiet': 1666, 'failur': 1667, 'jesu': 1668, 'franc': 1669, 'threaten': 1670, 'punch': 1671, 'aid': 1672, 'kevin': 1673, 'toy': 1674, 'met': 1675, 'higher': 1676, 'vh': 1677, 'mike': 1678, 'interact': 1679, 'abandon': 1680, 'bet': 1681, 'confront': 1682, 'separ': 1683, 'command': 1684, 'site': 1685, 'belong': 1686, 'recal': 1687, 'gotten': 1688, 'techniqu': 1689, 'servic': 1690, 'stunt': 1691, 'cabl': 1692, 'bug': 1693, 'freak': 1694, 'foot': 1695, 'capabl': 1696, 'jimmi': 1697, 'fu': 1698, 'bright': 1699, 'african': 1700, 'clark': 1701, 'succeed': 1702, 'presid': 1703, 'boat': 1704, 'fat': 1705, 'stock': 1706, 'spanish': 1707, 'gene': 1708, 'structur': 1709, 'paper': 1710, 'kidnap': 1711, 'whilst': 1712, 'belief': 1713, 'factor': 1714, 'realis': 1715, 'complic': 1716, 'bob': 1717, 'realism': 1718, 'witti': 1719, 'attend': 1720, 'tree': 1721, 'educ': 1722, 'assist': 1723, 'broken': 1724, 'finest': 1725, 'santa': 1726, 'up': 1727, 'determin': 1728, 'smoke': 1729, 'depart': 1730, 'v': 1731, 'observ': 1732, 'lewi': 1733, 'hat': 1734, 'routin': 1735, 'oper': 1736, 'domin': 1737, 'rubbish': 1738, 'fame': 1739, 'foreign': 1740, 'morgan': 1741, 'lone': 1742, 'advanc': 1743, 'safe': 1744, 'kinda': 1745, 'hook': 1746, 'rank': 1747, 'numer': 1748, 'shape': 1749, 'shallow': 1750, 'werewolf': 1751, 'civil': 1752, 'rose': 1753, 'washington': 1754, 'vs': 1755, 'morn': 1756, 'gari': 1757, 'ordinari': 1758, 'accomplish': 1759, 'winner': 1760, 'kong': 1761, 'grab': 1762, 'virtual': 1763, 'whenev': 1764, 'peac': 1765, 'luck': 1766, 'offens': 1767, 'h': 1768, 'contriv': 1769, 'patient': 1770, 'complain': 1771, 'welcom': 1772, 'unfunni': 1773, 'bigger': 1774, 'activ': 1775, 'dimension': 1776, 'con': 1777, 'pretend': 1778, 'trek': 1779, 'cain': 1780, 'code': 1781, 'wake': 1782, 'dri': 1783, 'lesbian': 1784, 'eric': 1785, 'flash': 1786, 'dancer': 1787, 'guard': 1788, 'corrupt': 1789, 'albert': 1790, 'manipul': 1791, 'statu': 1792, 'sourc': 1793, 'signific': 1794, 'gain': 1795, 'awkward': 1796, 'speech': 1797, 'context': 1798, '13': 1799, 'anthoni': 1800, 'corni': 1801, 'sean': 1802, 'clip': 1803, 'psycho': 1804, 'advic': 1805, 'theatric': 1806, 'w': 1807, 'curiou': 1808, 'religion': 1809, 'priest': 1810, 'reli': 1811, 'addict': 1812, 'flow': 1813, 'howard': 1814, 'secur': 1815, 'jennif': 1816, 'specif': 1817, 'asian': 1818, 'skin': 1819, 'luke': 1820, 'comfort': 1821, 'organ': 1822, 'golden': 1823, 'promot': 1824, 'core': 1825, 'lucki': 1826, 'cheat': 1827, 'cash': 1828, 'associ': 1829, 'dislik': 1830, 'lower': 1831, 'regret': 1832, 'contribut': 1833, 'spell': 1834, 'wing': 1835, 'balanc': 1836, 'frequent': 1837, 'degre': 1838, 'devic': 1839, 'frankli': 1840, 'print': 1841, 'sake': 1842, 'forgiv': 1843, 'lake': 1844, 'mass': 1845, 'thoma': 1846, 'betti': 1847, 'crack': 1848, 'gordon': 1849, 'unexpect': 1850, 'invit': 1851, 'unfold': 1852, 'amateur': 1853, 'categori': 1854, 'construct': 1855, 'grown': 1856, 'depend': 1857, 'intellectu': 1858, 'honor': 1859, 'condit': 1860, 'walter': 1861, 'grew': 1862, 'anna': 1863, 'matur': 1864, 'sole': 1865, 'spectacular': 1866, 'veteran': 1867, 'sudden': 1868, 'mirror': 1869, 'gift': 1870, 'overli': 1871, 'experienc': 1872, 'meanwhil': 1873, 'grip': 1874, 'card': 1875, 'freedom': 1876, 'liner': 1877, 'robin': 1878, 'demonstr': 1879, 'section': 1880, 'circumst': 1881, 'crappi': 1882, 'theori': 1883, 'oliv': 1884, 'drew': 1885, 'brilliantli': 1886, 'colour': 1887, 'unabl': 1888, 'sheriff': 1889, 'subtitl': 1890, 'pile': 1891, 'altern': 1892, 'cook': 1893, 'matt': 1894, 'sheer': 1895, 'laughter': 1896, 'parker': 1897, 'path': 1898, 'treatment': 1899, 'lawyer': 1900, 'hall': 1901, 'defin': 1902, 'accident': 1903, 'relief': 1904, 'wander': 1905, 'sinatra': 1906, 'hank': 1907, 'captiv': 1908, 'dragon': 1909, 'gratuit': 1910, 'halloween': 1911, 'moor': 1912, 'wound': 1913, 'broadway': 1914, 'unintent': 1915, 'k': 1916, 'kung': 1917, 'cowboy': 1918, 'barbara': 1919, 'wayn': 1920, 'jacki': 1921, 'surreal': 1922, 'canadian': 1923, 'winter': 1924, 'statement': 1925, 'spoof': 1926, 'compos': 1927, 'gonna': 1928, 'fish': 1929, 'fare': 1930, 'cheer': 1931, 'treasur': 1932, 'sensit': 1933, 'emerg': 1934, 'victor': 1935, 'unrealist': 1936, 'woodi': 1937, 'neighbor': 1938, 'driven': 1939, 'ran': 1940, 'sympathet': 1941, 'glass': 1942, 'topic': 1943, 'authent': 1944, 'menac': 1945, 'overlook': 1946, 'expos': 1947, 'ancient': 1948, 'gross': 1949, 'handsom': 1950, 'chief': 1951, 'michel': 1952, 'network': 1953, 'stranger': 1954, 'contemporari': 1955, 'comedian': 1956, 'russel': 1957, 'nevertheless': 1958, 'built': 1959, 'cinderella': 1960, 'pleasant': 1961, 'feet': 1962, 'blockbust': 1963, 'miser': 1964, 'endless': 1965, 'consider': 1966, 'letter': 1967, 'underr': 1968, 'gori': 1969, 'earn': 1970, 'solv': 1971, 'brook': 1972, 'switch': 1973, 'bullet': 1974, 'edward': 1975, 'victoria': 1976, 'joseph': 1977, 'convict': 1978, 'virgin': 1979, 'scenario': 1980, 'chosen': 1981, '0': 1982, 'alex': 1983, 'scale': 1984, 'cynic': 1985, 'outrag': 1986, 'sword': 1987, 'gut': 1988, 'com': 1989, 'curs': 1990, 'proper': 1991, 'wrap': 1992, 'driver': 1993, 'uk': 1994, 'substanc': 1995, 'juli': 1996, 'screenwrit': 1997, 'monkey': 1998, 'indic': 1999, 'court': 2000, 'par': 2001, 'remov': 2002, 'bird': 2003, 'roy': 2004, 'advertis': 2005, 'consequ': 2006, 'loser': 2007, 'naiv': 2008, 'nanci': 2009, 'grave': 2010, 'rental': 2011, 'inevit': 2012, 'brave': 2013, 'germani': 2014, 'bridg': 2015, 'slap': 2016, 'invis': 2017, 'fatal': 2018, 'le': 2019, 'anger': 2020, 'ador': 2021, 'provok': 2022, 'footbal': 2023, 'loui': 2024, 'anderson': 2025, 'alcohol': 2026, 'chan': 2027, 'stumbl': 2028, 'willi': 2029, 'professor': 2030, 'ryan': 2031, 'patrick': 2032, 'australian': 2033, 'sharp': 2034, '1930': 2035, 'bat': 2036, 'assassin': 2037, 'cell': 2038, 'refresh': 2039, 'heck': 2040, 'trilog': 2041, 'strongli': 2042, 'eight': 2043, 'lousi': 2044, 'saturday': 2045, 'amateurish': 2046, 'deni': 2047, 'liber': 2048, 'ape': 2049, 'sin': 2050, 'justifi': 2051, 'vagu': 2052, 'san': 2053, 'resid': 2054, 'reput': 2055, 'indi': 2056, 'terrifi': 2057, 'sympathi': 2058, 'defeat': 2059, 'mini': 2060, 'creator': 2061, 'tabl': 2062, 'expert': 2063, 'endur': 2064, 'task': 2065, 'tediou': 2066, 'prevent': 2067, 'imit': 2068, 'offend': 2069, 'basebal': 2070, 'trial': 2071, 'che': 2072, 'employ': 2073, 'rival': 2074, 'complaint': 2075, 'weekend': 2076, 'max': 2077, 'europ': 2078, 'dig': 2079, 'fairi': 2080, 'pitch': 2081, 'beach': 2082, 'risk': 2083, 'format': 2084, 'purchas': 2085, 'murphi': 2086, 'hype': 2087, 'tini': 2088, 'powel': 2089, 'bite': 2090, 'glimps': 2091, 'harsh': 2092, 'reminisc': 2093, 'nois': 2094, 'titan': 2095, 'prime': 2096, '14': 2097, 'strip': 2098, 'fals': 2099, 'till': 2100, 'asleep': 2101, 'north': 2102, 'destruct': 2103, 'texa': 2104, 'africa': 2105, 'revel': 2106, 'descript': 2107, 'inner': 2108, 'sitcom': 2109, 'semi': 2110, 'surfac': 2111, 'uninterest': 2112, 'arrest': 2113, 'spin': 2114, 'excess': 2115, 'twin': 2116, 'massiv': 2117, 'maintain': 2118, 'argu': 2119, 'hitchcock': 2120, 'makeup': 2121, 'controversi': 2122, 'dinosaur': 2123, 'ludicr': 2124, 'stare': 2125, 'insist': 2126, 'expens': 2127, 'melodrama': 2128, 'reject': 2129, 'ideal': 2130, 'kim': 2131, 'supernatur': 2132, 'erot': 2133, 'forest': 2134, 'subplot': 2135, 'nail': 2136, 'press': 2137, 'atroci': 2138, 'ga': 2139, 'ala': 2140, 'host': 2141, 'columbo': 2142, 'presum': 2143, 'notch': 2144, 'identifi': 2145, 'cant': 2146, 'dude': 2147, 'method': 2148, 'closer': 2149, 'forgett': 2150, 'guest': 2151, 'character': 2152, 'crude': 2153, 'plagu': 2154, 'princess': 2155, 'beast': 2156, 'border': 2157, 'ear': 2158, 'landscap': 2159, 'foster': 2160, 'lion': 2161, 'damag': 2162, 'accus': 2163, 'pacino': 2164, 'previous': 2165, 'birth': 2166, 'bound': 2167, 'jungl': 2168, 'urban': 2169, 'storytel': 2170, 'aunt': 2171, 'chose': 2172, 'thirti': 2173, 'nude': 2174, 'guid': 2175, 'jess': 2176, 'propaganda': 2177, 'emma': 2178, 'doll': 2179, '25': 2180, 'mate': 2181, 'whoever': 2182, 'mainstream': 2183, 'pet': 2184, 'warrior': 2185, 'upset': 2186, 'size': 2187, 'latest': 2188, 'deadli': 2189, 'exact': 2190, 'gritti': 2191, 'merit': 2192, 'friday': 2193, 'poster': 2194, 'cooper': 2195, 'corps': 2196, 'blend': 2197, 'wilson': 2198, 'contact': 2199, 'ton': 2200, 'warner': 2201, 'sun': 2202, 'settl': 2203, 'contest': 2204, 'popul': 2205, 'citizen': 2206, '1990': 2207, 'buff': 2208, 'rough': 2209, 'environ': 2210, 'alic': 2211, 'select': 2212, 'rat': 2213, 'widow': 2214, 'pitt': 2215, 'bu': 2216, 'metal': 2217, 'overcom': 2218, 'mgm': 2219, 'lift': 2220, 'link': 2221, 'particip': 2222, 'ted': 2223, 'revolut': 2224, 'guilti': 2225, 'moron': 2226, 'corpor': 2227, '1960': 2228, 'prostitut': 2229, 'accompani': 2230, 'matrix': 2231, 'corner': 2232, 'exagger': 2233, 'johnson': 2234, 'afternoon': 2235, 'multipl': 2236, 'leagu': 2237, 'friendli': 2238, 'clair': 2239, 'doom': 2240, 'instal': 2241, 'sincer': 2242, 'holm': 2243, 'hood': 2244, 'string': 2245, 'advis': 2246, 'examin': 2247, 'junk': 2248, 'grim': 2249, 'aka': 2250, 'hip': 2251, 'irish': 2252, 'campi': 2253, 'defend': 2254, 'sunday': 2255, 'blah': 2256, 'lugosi': 2257, 'confid': 2258, 'shut': 2259, 'rachel': 2260, 'icon': 2261, 'pro': 2262, 'tight': 2263, 'shake': 2264, 'varieti': 2265, 'mexican': 2266, 'medic': 2267, 'attach': 2268, 'directli': 2269, 'denni': 2270, 'goal': 2271, 'jaw': 2272, 'sullivan': 2273, 'breast': 2274, 'dean': 2275, 'courag': 2276, 'sentenc': 2277, 'prior': 2278, 'legendari': 2279, 'truck': 2280, 'vietnam': 2281, 'sarah': 2282, 'duke': 2283, 'terrorist': 2284, 'bourn': 2285, 'behav': 2286, 'entri': 2287, 'split': 2288, 'donald': 2289, 'un': 2290, 'yell': 2291, 'nose': 2292, 'proceed': 2293, 'hong': 2294, 'unconvinc': 2295, 'stolen': 2296, 'jerk': 2297, 'lifetim': 2298, 'concentr': 2299, 'borrow': 2300, 'swim': 2301, 'confess': 2302, 'buri': 2303, 'forth': 2304, 'gather': 2305, 'everywher': 2306, 'crush': 2307, 'california': 2308, 'pan': 2309, 'lip': 2310, 'julia': 2311, 'deliveri': 2312, 'spite': 2313, 'turkey': 2314, 'freeman': 2315, 'proud': 2316, 'offici': 2317, 'china': 2318, 'downright': 2319, 'reward': 2320, 'quest': 2321, 'flight': 2322, 'hoffman': 2323, 'worthwhil': 2324, 'sink': 2325, 'encourag': 2326, 'fade': 2327, 'fabul': 2328, 'notori': 2329, 'inept': 2330, 'betray': 2331, 'lazi': 2332, 'jon': 2333, 'jail': 2334, 'sir': 2335, 'susan': 2336, 'shower': 2337, 'storm': 2338, 'cousin': 2339, 'lisa': 2340, 'relev': 2341, 'survivor': 2342, 'imageri': 2343, 'bag': 2344, 'branagh': 2345, 'bell': 2346, 'retard': 2347, 'teeth': 2348, 'alright': 2349, 'quirki': 2350, 'hugh': 2351, 'finger': 2352, 'bride': 2353, 'shark': 2354, 'facial': 2355, 'trade': 2356, 'toler': 2357, 'stab': 2358, 'summari': 2359, 'tremend': 2360, 'mexico': 2361, 'blown': 2362, 'hyster': 2363, 'ha': 2364, 'von': 2365, 'bitter': 2366, 'pose': 2367, 'scheme': 2368, 'ned': 2369, 'larri': 2370, 'afterward': 2371, 'christ': 2372, 'address': 2373, 'ron': 2374, 'bone': 2375, 'cruel': 2376, 'screw': 2377, 'pursu': 2378, 'traci': 2379, 'beg': 2380, 'snake': 2381, 'tour': 2382, 'thumb': 2383, 'distinct': 2384, 'swear': 2385, 'feed': 2386, 'raw': 2387, 'stomach': 2388, 'chair': 2389, 'obscur': 2390, 'occas': 2391, 'mechan': 2392, 'photo': 2393, 'sidney': 2394, 'render': 2395, 'cabin': 2396, 'argument': 2397, 'holiday': 2398, 'resist': 2399, 'heavili': 2400, 'necessarili': 2401, 'southern': 2402, 'chain': 2403, 'gruesom': 2404, 'hardi': 2405, 'india': 2406, 'racist': 2407, 'satan': 2408, 'indulg': 2409, 'understood': 2410, 'philip': 2411, 'outfit': 2412, 'integr': 2413, 'fourth': 2414, 'lay': 2415, 'tongu': 2416, 'pregnant': 2417, 'obnoxi': 2418, 'midnight': 2419, 'belov': 2420, 'forgot': 2421, 'stalk': 2422, 'carol': 2423, 'deeper': 2424, 'slapstick': 2425, 'ticket': 2426, 'garden': 2427, 'inhabit': 2428, 'magazin': 2429, 'restor': 2430, '17': 2431, 'shoe': 2432, 'brad': 2433, 'devot': 2434, 'incid': 2435, 'lincoln': 2436, 'anticip': 2437, 'guarante': 2438, 'disbelief': 2439, 'benefit': 2440, 'maria': 2441, 'underground': 2442, 'elizabeth': 2443, 'divorc': 2444, 'sandler': 2445, 'lili': 2446, 'mildli': 2447, 'bbc': 2448, 'capit': 2449, 'greater': 2450, 'slave': 2451, 'creation': 2452, 'cring': 2453, 'amazingli': 2454, 'princip': 2455, 'explod': 2456, 'extraordinari': 2457, 'lesli': 2458, 'halfway': 2459, 'funnier': 2460, 'introduct': 2461, 'extent': 2462, 'transfer': 2463, 'punish': 2464, 'text': 2465, 'wreck': 2466, 'advantag': 2467, 'tap': 2468, 'overwhelm': 2469, 'enhanc': 2470, 'deliber': 2471, 'lo': 2472, 'preview': 2473, 'lane': 2474, 'plant': 2475, 'jessica': 2476, 'east': 2477, 'horrif': 2478, 'error': 2479, 'dynam': 2480, 'vacat': 2481, 'miller': 2482, 'miscast': 2483, 'basi': 2484, 'vincent': 2485, 'homosexu': 2486, 'appli': 2487, 'sophist': 2488, '2000': 2489, 'ensu': 2490, 'sleazi': 2491, 'mansion': 2492, 'spoken': 2493, 'bollywood': 2494, 'via': 2495, 'steel': 2496, 'elev': 2497, 'extend': 2498, 'measur': 2499, 'uncomfort': 2500, 'reed': 2501, 'assign': 2502, 'breathtak': 2503, 'blair': 2504, 'fix': 2505, 'stanley': 2506, 'conceiv': 2507, 'alter': 2508, 'melt': 2509, 'daili': 2510, 'overact': 2511, 'hippi': 2512, 'beer': 2513, 'savag': 2514, 'mous': 2515, 'dentist': 2516, 'goofi': 2517, 'cathol': 2518, 'oppos': 2519, 'everyday': 2520, 'carpent': 2521, 'inspector': 2522, 'properli': 2523, 'succe': 2524, 'nowaday': 2525, 'subsequ': 2526, 'sacrific': 2527, 'burt': 2528, 'circl': 2529, 'block': 2530, 'laura': 2531, 'neck': 2532, 'massacr': 2533, 'lesser': 2534, 'concert': 2535, 'access': 2536, 'fallen': 2537, 'mob': 2538, 'fay': 2539, 'pool': 2540, 'seagal': 2541, 'portrait': 2542, 'christi': 2543, 'grey': 2544, 'isol': 2545, 'competit': 2546, 'relax': 2547, 'sinist': 2548, 'jewish': 2549, 'jake': 2550, 'usa': 2551, 'chees': 2552, 'react': 2553, '2006': 2554, 'lyric': 2555, 'nine': 2556, 'chop': 2557, 'spiritu': 2558, 'stink': 2559, 'suitabl': 2560, 'creep': 2561, 'immens': 2562, 'appal': 2563, 'nonetheless': 2564, 'ironi': 2565, 'nut': 2566, 'navi': 2567, 'reduc': 2568, 'shirt': 2569, 'adopt': 2570, 'luci': 2571, 'retir': 2572, 'spring': 2573, 'showcas': 2574, 'user': 2575, 'needless': 2576, 'rage': 2577, 'sold': 2578, 'franchis': 2579, 'per': 2580, 'zone': 2581, 'bulli': 2582, 'jay': 2583, 'asham': 2584, 'uninspir': 2585, 'nurs': 2586, 'digit': 2587, 'bath': 2588, 'stanwyck': 2589, '1940': 2590, 'laid': 2591, '2001': 2592, 'sutherland': 2593, 'illustr': 2594, 'oddli': 2595, 'broadcast': 2596, 'upper': 2597, 'amongst': 2598, 'throat': 2599, 'disguis': 2600, 'stylish': 2601, 'fulfil': 2602, 'aspir': 2603, 'brando': 2604, 'baker': 2605, 'endear': 2606, '18': 2607, 'pride': 2608, 'wanna': 2609, 'wwii': 2610, 'nobl': 2611, 'pound': 2612, 'em': 2613, 'impli': 2614, 'thief': 2615, 'neighborhood': 2616, 'distribut': 2617, 'prop': 2618, 'dinner': 2619, '16': 2620, 'cinematograph': 2621, 'shoulder': 2622, 'shift': 2623, 'tens': 2624, 'diseas': 2625, 'bo': 2626, 'bett': 2627, 'rochest': 2628, 'coher': 2629, 'albeit': 2630, 'dawn': 2631, 'poignant': 2632, 'matthau': 2633, 'forti': 2634, 'shout': 2635, 'wash': 2636, 'rebel': 2637, 'function': 2638, 'silenc': 2639, 'contract': 2640, 'surf': 2641, 'knife': 2642, 'snow': 2643, 'proof': 2644, 'instinct': 2645, 'mindless': 2646, 'heat': 2647, 'duti': 2648, 'derek': 2649, 'henc': 2650, 'internet': 2651, 'height': 2652, 'cancel': 2653, 'chuck': 2654, 'cannib': 2655, 'reunion': 2656, 'eeri': 2657, 'elvira': 2658, 'silver': 2659, 'horrend': 2660, 'widmark': 2661, 'musician': 2662, 'glori': 2663, 'greatli': 2664, 'elvi': 2665, 'premier': 2666, 'etern': 2667, 'incoher': 2668, 'neat': 2669, 'mill': 2670, 'torn': 2671, 'absorb': 2672, 'pie': 2673, 'alik': 2674, 'spielberg': 2675, 'repetit': 2676, 'innov': 2677, 'itali': 2678, 'racism': 2679, 'diamond': 2680, 'announc': 2681, 'crisi': 2682, 'britain': 2683, 'burton': 2684, 'blank': 2685, 'bang': 2686, 'nelson': 2687, 'trite': 2688, 'horrifi': 2689, 'redempt': 2690, 'wealthi': 2691, 'homag': 2692, 'fbi': 2693, 'lovabl': 2694, 'infam': 2695, 'precis': 2696, 'dedic': 2697, 'flop': 2698, 'helen': 2699, 'ensembl': 2700, 'parallel': 2701, 'hammer': 2702, 'pat': 2703, 'resolut': 2704, 'chaplin': 2705, 'happili': 2706, 'streisand': 2707, 'wilder': 2708, 'oil': 2709, 'broke': 2710, 'conclud': 2711, 'factori': 2712, 'plastic': 2713, 'disagre': 2714, 'triumph': 2715, 'carter': 2716, 'mar': 2717, 'cube': 2718, 'st': 2719, 'chuckl': 2720, 'row': 2721, 'weight': 2722, 'vega': 2723, 'fighter': 2724, 'climb': 2725, 'own': 2726, 'bush': 2727, 'march': 2728, 'rocket': 2729, 'sensibl': 2730, 'meaning': 2731, 'dane': 2732, 'lust': 2733, 'enorm': 2734, 'boot': 2735, 'dump': 2736, 'wherea': 2737, 'thug': 2738, 'mst3k': 2739, 'kurt': 2740, 'unforgett': 2741, 'luca': 2742, 'spare': 2743, 'brand': 2744, 'fifti': 2745, 'butt': 2746, 'dear': 2747, 'engin': 2748, 'caricatur': 2749, 'threat': 2750, 'bobbi': 2751, 'difficulti': 2752, 'rap': 2753, 'adequ': 2754, 'stress': 2755, 'arnold': 2756, 'karloff': 2757, 'secretari': 2758, 'journalist': 2759, 'elabor': 2760, 'ralph': 2761, 'barri': 2762, 'flynn': 2763, 'ego': 2764, 'swing': 2765, 'homeless': 2766, 'arrog': 2767, 'polish': 2768, 'fest': 2769, 'hamlet': 2770, 'puppet': 2771, 'induc': 2772, 'resort': 2773, 'fanci': 2774, 'float': 2775, 'tool': 2776, 'grate': 2777, 'simpson': 2778, 'unbear': 2779, 'conspiraci': 2780, 'spike': 2781, 'arrang': 2782, 'guilt': 2783, 'phillip': 2784, 'basement': 2785, 'exercis': 2786, 'muppet': 2787, 'choreograph': 2788, 'cruis': 2789, 'tribut': 2790, 'pig': 2791, 'boll': 2792, 'item': 2793, 'toilet': 2794, 'babe': 2795, 'document': 2796, 'layer': 2797, 'slip': 2798, 'file': 2799, 'ham': 2800, '24': 2801, 'fianc': 2802, 'medium': 2803, 'tower': 2804, 'ward': 2805, 'stan': 2806, 'korean': 2807, 'editor': 2808, 'scarecrow': 2809, 'puzzl': 2810, 'inexplic': 2811, 'catherin': 2812, 'transit': 2813, 'librari': 2814, 'philosoph': 2815, 'superfici': 2816, 'larger': 2817, 'orient': 2818, 'territori': 2819, 'spark': 2820, 'assur': 2821, 'glover': 2822, 'portion': 2823, 'denzel': 2824, 'persona': 2825, 'minim': 2826, 'slaughter': 2827, 'doc': 2828, 'dorothi': 2829, 'curti': 2830, 'shi': 2831, 'jeremi': 2832, 'boredom': 2833, 'walken': 2834, 'pg': 2835, 'owe': 2836, 'sneak': 2837, 'financi': 2838, 'ban': 2839, 'jet': 2840, 'wolf': 2841, 'eleph': 2842, 'hudson': 2843, 'whale': 2844, 'cusack': 2845, 'multi': 2846, 'backdrop': 2847, 'ambigu': 2848, 'profound': 2849, 'metaphor': 2850, 'viru': 2851, 'rave': 2852, 'birthday': 2853, 'ultra': 2854, 'notion': 2855, 'union': 2856, 'hack': 2857, '2005': 2858, 'stiff': 2859, 'implaus': 2860, 'elsewher': 2861, 'gadget': 2862, 'disc': 2863, 'distanc': 2864, 'reader': 2865, 'deriv': 2866, '1st': 2867, 'newspap': 2868, 'pad': 2869, 'squar': 2870, 'slight': 2871, 'hawk': 2872, 'lloyd': 2873, 'poison': 2874, 'superhero': 2875, 'afford': 2876, 'urg': 2877, 'canada': 2878, 'eastwood': 2879, 'eva': 2880, 'bibl': 2881, 'montag': 2882, 'cure': 2883, 'charisma': 2884, 'restaur': 2885, 'button': 2886, 'huh': 2887, 'essenc': 2888, 'drown': 2889, 'spread': 2890, 'health': 2891, 'skit': 2892, 'sadist': 2893, 'heston': 2894, 'peak': 2895, 'companion': 2896, 'invest': 2897, 'gradual': 2898, 'fetch': 2899, 'godfath': 2900, 'lab': 2901, 'muslim': 2902, 'dealt': 2903, 'estat': 2904, 'maniac': 2905, 'scoobi': 2906, 'subtleti': 2907, 'alli': 2908, 'countless': 2909, 'servant': 2910, 'kane': 2911, 'tea': 2912, 'miik': 2913, 'cup': 2914, 'gothic': 2915, 'ritter': 2916, 'charismat': 2917, 'briefli': 2918, 'heroic': 2919, 'salli': 2920, 'electr': 2921, 'elect': 2922, 'iii': 2923, 'resourc': 2924, 'neil': 2925, 'wannab': 2926, 'cole': 2927, 'admittedli': 2928, 'grandmoth': 2929, 'reel': 2930, 'toss': 2931, 'tender': 2932, 'bud': 2933, 'ingredi': 2934, 'nuanc': 2935, 'mafia': 2936, 'label': 2937, 'reev': 2938, 'stronger': 2939, 'pit': 2940, 'punk': 2941, 'dawson': 2942, 'carrey': 2943, 'gate': 2944, 'shall': 2945, 'mild': 2946, 'stood': 2947, 'poverti': 2948, 'kubrick': 2949, 'pauli': 2950, 'easier': 2951, 'assault': 2952, 'fond': 2953, 'astair': 2954, 'tag': 2955, 'useless': 2956, 'terri': 2957, 'cardboard': 2958, 'outcom': 2959, 'smooth': 2960, 'ian': 2961, 'burst': 2962, 'updat': 2963, 'smash': 2964, 'cox': 2965, 'bakshi': 2966, 'increasingli': 2967, 'exchang': 2968, 'rex': 2969, 'vari': 2970, 'resolv': 2971, 'qualifi': 2972, 'melodramat': 2973, 'fist': 2974, 'vulner': 2975, 'divers': 2976, '2002': 2977, 'coincid': 2978, 'sketch': 2979, 'samurai': 2980, 'scratch': 2981, 'tame': 2982, 'conveni': 2983, 'be': 2984, 'reynold': 2985, 'insert': 2986, 'suspend': 2987, 'luckili': 2988, 'brillianc': 2989, 'blast': 2990, 'templ': 2991, 'farm': 2992, 'soprano': 2993, 'hamilton': 2994, 'jami': 2995, 'pin': 2996, 'strictli': 2997, 'gotta': 2998, 'ambiti': 2999, 'nuclear': 3000, 'meat': 3001, 'walker': 3002, 'fisher': 3003, 'seventi': 3004, 'matthew': 3005, 'coach': 3006, 'spooki': 3007, 'closet': 3008, 'struck': 3009, 'kudo': 3010, 'discoveri': 3011, 'grasp': 3012, 'recreat': 3013, 'worthless': 3014, 'eccentr': 3015, 'convolut': 3016, 'cave': 3017, 'butcher': 3018, 'instantli': 3019, 'revers': 3020, 'timeless': 3021, 'empir': 3022, 'clock': 3023, 'monk': 3024, 'ninja': 3025, 'joey': 3026, 'brosnan': 3027, 'seller': 3028, 'fifteen': 3029, 'cliff': 3030, 'evok': 3031, 'declar': 3032, 'selfish': 3033, 'miracl': 3034, 'communist': 3035, 'sloppi': 3036, 'mitchel': 3037, 'bleak': 3038, 'gray': 3039, 'eighti': 3040, 'importantli': 3041, 'partli': 3042, 'inconsist': 3043, 'sidekick': 3044, 'norman': 3045, 'clown': 3046, 'wipe': 3047, 'pal': 3048, 'psychiatrist': 3049, 'enthusiast': 3050, 'australia': 3051, 'flawless': 3052, 'debat': 3053, 'stoog': 3054, 'lifestyl': 3055, 'destin': 3056, 'chew': 3057, 'piano': 3058, '45': 3059, 'aforement': 3060, 'websit': 3061, 'ho': 3062, 'cheek': 3063, 'farc': 3064, 'seed': 3065, 'superbl': 3066, 'wrestl': 3067, 'drivel': 3068, 'pressur': 3069, 'emili': 3070, 'akshay': 3071, 'directori': 3072, 'bash': 3073, 'wick': 3074, 'abc': 3075, 'dash': 3076, 'incompet': 3077, 'slice': 3078, 'kitchen': 3079, 'splatter': 3080, 'regardless': 3081, 'soviet': 3082, 'anni': 3083, 'dire': 3084, 'boil': 3085, 'chapter': 3086, 'distant': 3087, 'prize': 3088, 'dave': 3089, 'cagney': 3090, 'seduc': 3091, 'cameron': 3092, 'artifici': 3093, 'lou': 3094, 'curios': 3095, 'duo': 3096, 'pleasantli': 3097, 'helicopt': 3098, 'glow': 3099, 'increas': 3100, 'beaten': 3101, 'ken': 3102, 'judi': 3103, 'suppli': 3104, 'jar': 3105, 'recov': 3106, 'cia': 3107, 'doo': 3108, 'flower': 3109, 'blob': 3110, 'mann': 3111, 'splendid': 3112, 'glenn': 3113, 'psychot': 3114, 'favour': 3115, 'turner': 3116, 'perri': 3117, 'combat': 3118, 'eleg': 3119, 'drunken': 3120, 'ellen': 3121, 'web': 3122, 'panic': 3123, 'craven': 3124, 'laurel': 3125, 'craig': 3126, 'goldberg': 3127, 'francisco': 3128, 'ranger': 3129, 'hop': 3130, 'philosophi': 3131, 'greek': 3132, 'shortli': 3133, 'gentl': 3134, 'graduat': 3135, 'hatr': 3136, 'slightest': 3137, 'alexand': 3138, '20th': 3139, 'flip': 3140, 'min': 3141, 'modesti': 3142, 'plausibl': 3143, 'wizard': 3144, 'ruth': 3145, 'falk': 3146, 'fx': 3147, 'rid': 3148, 'gandhi': 3149, 'holi': 3150, 'knight': 3151, 'harm': 3152, 'felix': 3153, 'unpleas': 3154, 'preciou': 3155, 'futurist': 3156, 'fund': 3157, 'jealou': 3158, 'ocean': 3159, 'legal': 3160, 'tall': 3161, 'we': 3162, 'manhattan': 3163, 'lend': 3164, 'dracula': 3165, 'childish': 3166, 'ami': 3167, 'mock': 3168, 'overdon': 3169, 'forbidden': 3170, 'thread': 3171, 'explicit': 3172, 'scientif': 3173, 'nod': 3174, 'digniti': 3175, 'reviv': 3176, 'bless': 3177, 'giallo': 3178, 'tank': 3179, 'yesterday': 3180, 'thick': 3181, 'repeatedli': 3182, 'unwatch': 3183, '2004': 3184, 'eve': 3185, 'awe': 3186, 'mel': 3187, 'margaret': 3188, '99': 3189, 'nerv': 3190, 'broad': 3191, 'elderli': 3192, 'torment': 3193, 'fever': 3194, 'pirat': 3195, 'awaken': 3196, 'verhoeven': 3197, 'eas': 3198, 'stiller': 3199, 'custom': 3200, 'royal': 3201, 'rivet': 3202, 'lean': 3203, 'absenc': 3204, 'acclaim': 3205, 'launch': 3206, 'romero': 3207, 'kay': 3208, 'publish': 3209, 'timothi': 3210, 'bin': 3211, 'ambit': 3212, 'politician': 3213, 'automat': 3214, 'uniform': 3215, 'ah': 3216, 'roman': 3217, 'griffith': 3218, 'pulp': 3219, 'warren': 3220, 'antic': 3221, 'crook': 3222, 'transport': 3223, 'purpl': 3224, 'darker': 3225, 'phrase': 3226, 'wallac': 3227, 'foul': 3228, 'gabriel': 3229, 'termin': 3230, 'sunshin': 3231, 'stinker': 3232, 'tomato': 3233, 'pierc': 3234, 'bathroom': 3235, 'homicid': 3236, 'hollow': 3237, 'packag': 3238, 'album': 3239, '2003': 3240, 'sixti': 3241, 'contrari': 3242, 'ought': 3243, 'evolv': 3244, 'horrid': 3245, 'brazil': 3246, 'eyr': 3247, 'awak': 3248, 'kenneth': 3249, 'donna': 3250, 'saint': 3251, 'coloni': 3252, 'juvenil': 3253, 'prom': 3254, 'pray': 3255, 'karen': 3256, 'revolutionari': 3257, 'choreographi': 3258, 'viciou': 3259, 'q': 3260, 'marin': 3261, 'li': 3262, 'rambo': 3263, 'defi': 3264, 'beatti': 3265, 'blade': 3266, 'boast': 3267, 'ramon': 3268, 'overr': 3269, 'dose': 3270, 'ireland': 3271, 'stole': 3272, 'kapoor': 3273, 'nerd': 3274, 'twelv': 3275, 'conserv': 3276, 'candid': 3277, 'mildr': 3278, 'mummi': 3279, 'option': 3280, 'jazz': 3281, 'flame': 3282, 'confirm': 3283, 'trio': 3284, 'natali': 3285, 'detract': 3286, 'altman': 3287, 'funer': 3288, 'astonish': 3289, 'global': 3290, 'collabor': 3291, 'fulci': 3292, 'kirk': 3293, 'protest': 3294, 'tommi': 3295, 'shade': 3296, 'racial': 3297, 'destini': 3298, 'whip': 3299, 'leap': 3300, 'mystic': 3301, 'yellow': 3302, 'bottl': 3303, 'spit': 3304, 'delici': 3305, 'nicholson': 3306, 'audio': 3307, 'blake': 3308, 'bull': 3309, 'enterpris': 3310, 'popcorn': 3311, 'altogeth': 3312, 'swedish': 3313, 'threw': 3314, 'adolesc': 3315, 'enchant': 3316, 'bedroom': 3317, 'meaningless': 3318, 'reunit': 3319, 'visibl': 3320, 'vivid': 3321, 'fonda': 3322, 'harder': 3323, 'pseudo': 3324, 'merci': 3325, 'todd': 3326, 'neo': 3327, 'staff': 3328, 'inherit': 3329, 'exhibit': 3330, 'madonna': 3331, 'lemmon': 3332, 'await': 3333, 'wire': 3334, 'suspici': 3335, 'tip': 3336, 'bust': 3337, 'uneven': 3338, 'lawrenc': 3339, 'edi': 3340, 'decor': 3341, 'roommat': 3342, 'fanat': 3343, 'voight': 3344, 'kennedi': 3345, 'synopsi': 3346, 'moodi': 3347, 'ruthless': 3348, 'reserv': 3349, 'respond': 3350, 'befriend': 3351, 'jew': 3352, 'leonard': 3353, 'atlanti': 3354, 'crocodil': 3355, 'dimens': 3356, 'centr': 3357, 'bold': 3358, 'ventur': 3359, 'chao': 3360, 'bradi': 3361, 'bargain': 3362, 'garner': 3363, '2007': 3364, 'incident': 3365, 'unsettl': 3366, 'clumsi': 3367, 'audit': 3368, 'abysm': 3369, 'carl': 3370, 'clint': 3371, 'rural': 3372, 'voyag': 3373, 'holli': 3374, 'palma': 3375, 'echo': 3376, 'cuba': 3377, 'trail': 3378, '2nd': 3379, 'nearbi': 3380, 'hart': 3381, 'acknowledg': 3382, 'ant': 3383, 'neglect': 3384, 'mall': 3385, 'troop': 3386, 'imperson': 3387, 'poetic': 3388, 'humili': 3389, 'characterist': 3390, 'immigr': 3391, 'tiger': 3392, 'daddi': 3393, 'wealth': 3394, 'elimin': 3395, 'lit': 3396, 'cd': 3397, 'versu': 3398, 'timon': 3399, 'cari': 3400, 'solo': 3401, 'saga': 3402, 'repuls': 3403, 'jeffrey': 3404, 'domest': 3405, 'prejudic': 3406, 'mistaken': 3407, 'pun': 3408, 'marshal': 3409, 'collaps': 3410, 'celluloid': 3411, 'mickey': 3412, 'infect': 3413, 'paus': 3414, 'homer': 3415, 'cake': 3416, 'apolog': 3417, 'inappropri': 3418, 'harvey': 3419, '1996': 3420, 'interrupt': 3421, 'undoubtedli': 3422, 'sore': 3423, 'hbo': 3424, 'promin': 3425, 'chest': 3426, 'inan': 3427, 'coffe': 3428, 'gear': 3429, 'pant': 3430, 'tribe': 3431, 'leon': 3432, 'assembl': 3433, 'ginger': 3434, 'olivi': 3435, 'coat': 3436, 'milk': 3437, 'equip': 3438, 'furthermor': 3439, 'maggi': 3440, 'pot': 3441, 'colleagu': 3442, 'humbl': 3443, 'pen': 3444, 'colonel': 3445, 'aveng': 3446, 'highest': 3447, 'vulgar': 3448, 'trace': 3449, 'primari': 3450, 'institut': 3451, 'devast': 3452, 'consum': 3453, 'retain': 3454, 'airplan': 3455, 'embrac': 3456, 'exot': 3457, 'instant': 3458, 'florida': 3459, 'solut': 3460, 'polanski': 3461, 'jenni': 3462, 'brooklyn': 3463, '1999': 3464, 'strain': 3465, 'seduct': 3466, 'illog': 3467, 'disabl': 3468, 'sale': 3469, 'descend': 3470, 'dutch': 3471, 'rick': 3472, 'linda': 3473, 'dian': 3474, 'outer': 3475, 'ya': 3476, 'cope': 3477, 'smaller': 3478, '3rd': 3479, 'poke': 3480, 'principl': 3481, 'wive': 3482, 'gender': 3483, 'bowl': 3484, 'godzilla': 3485, 'dive': 3486, 'vast': 3487, 'devoid': 3488, 'dud': 3489, 'mixtur': 3490, 'predecessor': 3491, 'cue': 3492, 'secondli': 3493, 'rabbit': 3494, 'blatant': 3495, 'glamor': 3496, 'scope': 3497, 'inferior': 3498, 'gloriou': 3499, 'bubbl': 3500, 'primarili': 3501, 'hal': 3502, 'beneath': 3503, 'yard': 3504, 'gundam': 3505, 'lol': 3506, 'casual': 3507, 'streep': 3508, 'garbo': 3509, 'trademark': 3510, 'shirley': 3511, 'alfr': 3512, 'museum': 3513, 'april': 3514, 'alert': 3515, 'grinch': 3516, 'myer': 3517, 'simplist': 3518, 'aggress': 3519, 'z': 3520, 'et': 3521, 'hideou': 3522, 'breed': 3523, 'arab': 3524, 'shelf': 3525, 'senseless': 3526, 'talki': 3527, 'countrysid': 3528, 'disjoint': 3529, 'invas': 3530, 'pearl': 3531, 'domino': 3532, 'stack': 3533, 'unhappi': 3534, 'experiment': 3535, 'acid': 3536, 'loyal': 3537, 'defens': 3538, 'illeg': 3539, 'oz': 3540, 'slide': 3541, 'sh': 3542, 'rendit': 3543, 'khan': 3544, 'hopeless': 3545, 'applaud': 3546, 'mail': 3547, 'vanish': 3548, 'robinson': 3549, 'uwe': 3550, 'robberi': 3551, 'boom': 3552, 'hardcor': 3553, 'stir': 3554, 'mayor': 3555, 'disgrac': 3556, 'obtain': 3557, 'stellar': 3558, 'maci': 3559, 'topless': 3560, 'psychic': 3561, 'emphasi': 3562, 'rifl': 3563, 'declin': 3564, 'diana': 3565, 'tenant': 3566, 'scroog': 3567, 'amanda': 3568, 'counter': 3569, 'dismiss': 3570, 'tempt': 3571, 'blew': 3572, 'craze': 3573, 'spider': 3574, 'wont': 3575, 'span': 3576, 'soccer': 3577, 'dicken': 3578, 'fri': 3579, 'berlin': 3580, 'grandfath': 3581, 'incomprehens': 3582, 'recruit': 3583, 'hartley': 3584, 'resurrect': 3585, 'woo': 3586, 'faster': 3587, 'niro': 3588, 'trashi': 3589, 'revolt': 3590, 'shaw': 3591, 'sibl': 3592, 'parad': 3593, 'intim': 3594, 'ration': 3595, 'sympath': 3596, 'justin': 3597, 'riot': 3598, 'wet': 3599, 'ethnic': 3600, 'shed': 3601, 'goer': 3602, 'bitch': 3603, 'lumet': 3604, 'porno': 3605, 'choru': 3606, 'rider': 3607, 'ballet': 3608, 'wendi': 3609, 'slick': 3610, 'partial': 3611, 'ensur': 3612, 'dealer': 3613, 'hesit': 3614, 'weakest': 3615, 'jonathan': 3616, 'gap': 3617, 'honesti': 3618, 'eager': 3619, 'hopper': 3620, '00': 3621, 'wheel': 3622, 'unreal': 3623, 'feminist': 3624, 'region': 3625, 'commend': 3626, 'patriot': 3627, 'steam': 3628, 'mario': 3629, 'enlighten': 3630, 'biographi': 3631, 'andr': 3632, 'nephew': 3633, 'lena': 3634, 'immort': 3635, 'farmer': 3636, 'worm': 3637, 'charlott': 3638, 'similarli': 3639, 'nostalg': 3640, 'blunt': 3641, 'kingdom': 3642, 'util': 3643, 'repress': 3644, 'morri': 3645, 'owen': 3646, 'skull': 3647, 'composit': 3648, 'snap': 3649, 'hung': 3650, 'vice': 3651, 'confin': 3652, 'franco': 3653, 'victori': 3654, 'sandra': 3655, 'wore': 3656, 'psychopath': 3657, 'properti': 3658, 'macarthur': 3659, 'safeti': 3660, 'mutant': 3661, 'leo': 3662, 'sappi': 3663, 'prequel': 3664, 'heartbreak': 3665, 'emperor': 3666, '1972': 3667, 'hyde': 3668, 'acquir': 3669, 'deed': 3670, 'pattern': 3671, 'bonu': 3672, 'thru': 3673, 'miseri': 3674, 'drain': 3675, 'rope': 3676, 'nervou': 3677, 'speci': 3678, 'repli': 3679, 'strand': 3680, 'cg': 3681, 'compens': 3682, 'del': 3683, 'bergman': 3684, 'latin': 3685, 'dalton': 3686, 'despair': 3687, 'tad': 3688, 'snl': 3689, 'rocki': 3690, 'compass': 3691, 'bow': 3692, 'tail': 3693, 'dust': 3694, 'valuabl': 3695, 'kyle': 3696, 'recycl': 3697, 'whoopi': 3698, 'exit': 3699, 'drum': 3700, 'bumbl': 3701, 'campbel': 3702, 'rambl': 3703, 'montana': 3704, 'farrel': 3705, 'gimmick': 3706, 'wacki': 3707, 'tonight': 3708, 'bleed': 3709, 'orson': 3710, 'pour': 3711, 'contempl': 3712, 'airport': 3713, 'radic': 3714, 'percept': 3715, 'downhil': 3716, 'romp': 3717, 'gal': 3718, 'da': 3719, 'rotten': 3720, 'mistress': 3721, '35': 3722, 'carradin': 3723, 'rapist': 3724, 'roth': 3725, 'olli': 3726, 'oppress': 3727, 'slug': 3728, 'chess': 3729, 'martian': 3730, 'dazzl': 3731, 'tackl': 3732, 'shelley': 3733, 'stilt': 3734, 'pursuit': 3735, 'preach': 3736, 'slash': 3737, 'pervers': 3738, 'programm': 3739, 'mislead': 3740, 'heal': 3741, 'edgar': 3742, 'belt': 3743, 'unpredict': 3744, 'banal': 3745, 'attorney': 3746, '1983': 3747, 'arguabl': 3748, 'taught': 3749, 'champion': 3750, 'pervert': 3751, 'paltrow': 3752, 'arc': 3753, 'melodi': 3754, 'tooth': 3755, 'virginia': 3756, 'rubi': 3757, 'maid': 3758, 'chicken': 3759, 'cleverli': 3760, 'orang': 3761, 'poem': 3762, 'sensat': 3763, 'graham': 3764, 'vocal': 3765, 'raymond': 3766, 'mesmer': 3767, 'dixon': 3768, 'gambl': 3769, 'plight': 3770, 'franki': 3771, 'marti': 3772, 'duval': 3773, 'employe': 3774, 'passeng': 3775, 'uplift': 3776, 'vengeanc': 3777, 'tiresom': 3778, 'closest': 3779, 'conneri': 3780, 'bela': 3781, 'extens': 3782, 'habit': 3783, 'tube': 3784, 'numb': 3785, 'outing': 3786, 'whine': 3787, 'convincingli': 3788, 'amitabh': 3789, 'crystal': 3790, '1968': 3791, 'scottish': 3792, 'abraham': 3793, 'yawn': 3794, 'bay': 3795, 'climact': 3796, 'giggl': 3797, 'secretli': 3798, 'gerard': 3799, 'engross': 3800, 'monologu': 3801, 'sirk': 3802, 'profan': 3803, 'iran': 3804, 'quarter': 3805, 'mute': 3806, 'inject': 3807, 'swallow': 3808, 'pokemon': 3809, 'paranoia': 3810, 'calm': 3811, 'clone': 3812, 'suffic': 3813, 'volum': 3814, 'lundgren': 3815, 'richardson': 3816, 'frankenstein': 3817, 'meander': 3818, 'taxi': 3819, 'im': 3820, 'earl': 3821, 'dispos': 3822, 'backward': 3823, 'franci': 3824, 'spock': 3825, 'expand': 3826, 'linger': 3827, 'plod': 3828, 'lowest': 3829, 'trend': 3830, 'chicago': 3831, 'underst': 3832, 'junior': 3833, 'ethan': 3834, 'grotesqu': 3835, 'abort': 3836, 'fed': 3837, 'surpass': 3838, 'septemb': 3839, 'nichola': 3840, 'bend': 3841, 'austen': 3842, 'profess': 3843, 'poetri': 3844, 'nostalgia': 3845, 'cannon': 3846, 'simplic': 3847, 'greedi': 3848, 'lure': 3849, 'compliment': 3850, 'hum': 3851, 'spoke': 3852, 'eugen': 3853, 'rubber': 3854, 'descent': 3855, 'econom': 3856, 'myth': 3857, 'mundan': 3858, 'dysfunct': 3859, 'instrument': 3860, 'tourist': 3861, 'literatur': 3862, 'rant': 3863, 'catchi': 3864, 'muddl': 3865, 'waitress': 3866, 'der': 3867, 'stallon': 3868, 'household': 3869, 'sue': 3870, 'sissi': 3871, 'crucial': 3872, 'bacal': 3873, 'omen': 3874, 'randi': 3875, 'mortal': 3876, 'flee': 3877, 'hello': 3878, 'map': 3879, 'deaf': 3880, 'louis': 3881, 'june': 3882, 'mankind': 3883, 'coast': 3884, 'irrelev': 3885, 'firstli': 3886, 'duck': 3887, 'alongsid': 3888, 'insur': 3889, 'phantom': 3890, 'carel': 3891, 'damon': 3892, 'furi': 3893, 'molli': 3894, 'dictat': 3895, 'equival': 3896, 'eaten': 3897, 'cent': 3898, 'occupi': 3899, 'recognis': 3900, 'recognit': 3901, 'stale': 3902, 'phoni': 3903, 'dement': 3904, 'lang': 3905, 'twilight': 3906, 'bike': 3907, 'cyborg': 3908, 'lengthi': 3909, 'ashley': 3910, 'likewis': 3911, 'rude': 3912, 'newli': 3913, 'biko': 3914, 'buffalo': 3915, 'wisdom': 3916, 'distinguish': 3917, 'labor': 3918, 'grayson': 3919, 'bump': 3920, 'daisi': 3921, 'rooney': 3922, 'dreari': 3923, 'blackmail': 3924, 'damm': 3925, '1973': 3926, 'reign': 3927, 'loyalti': 3928, 'heel': 3929, 'freez': 3930, 'drake': 3931, 'antwon': 3932, 'onlin': 3933, 'boxer': 3934, 'incorpor': 3935, 'attribut': 3936, 'basketbal': 3937, 'analysi': 3938, 'butler': 3939, 'barrymor': 3940, 'chronicl': 3941, 'baddi': 3942, 'worn': 3943, 'pink': 3944, 'prey': 3945, 'nineti': 3946, 'exposur': 3947, 'emphas': 3948, 'proce': 3949, 'unorigin': 3950, 'approv': 3951, 'inher': 3952, 'ridden': 3953, 'provoc': 3954, 'vein': 3955, 'keith': 3956, 'tunnel': 3957, 'interior': 3958, 'startl': 3959, 'sailor': 3960, 'elm': 3961, 'hypnot': 3962, 'mighti': 3963, 'degrad': 3964, 'carla': 3965, 'underli': 3966, 'condemn': 3967, 'meyer': 3968, 'substitut': 3969, 'walsh': 3970, 'indiffer': 3971, 'millionair': 3972, 'drift': 3973, 'belushi': 3974, 'meg': 3975, 'undeni': 3976, 'fleet': 3977, 'simmon': 3978, 'mormon': 3979, 'er': 3980, 'improvis': 3981, 'julian': 3982, 'nicol': 3983, 'othello': 3984, 'unrel': 3985, 'robbin': 3986, 'barrel': 3987, 'predat': 3988, 'bunni': 3989, 'stalker': 3990, 'disord': 3991, 'nyc': 3992, 'roof': 3993, 'priceless': 3994, 'palac': 3995, 'warmth': 3996, 'hay': 3997, 'mtv': 3998, 'agenda': 3999, 'errol': 4000, 'firm': 4001, 'novak': 4002, 'lampoon': 4003, 'exquisit': 4004, 'shove': 4005, 'alarm': 4006, 'vital': 4007, '3d': 4008, 'greed': 4009, 'enthusiasm': 4010, 'watson': 4011, 'edgi': 4012, 'unawar': 4013, 'reid': 4014, 'alison': 4015, 'rukh': 4016, 'marion': 4017, 'dolph': 4018, 'campaign': 4019, 'profit': 4020, '1933': 4021, 'pamela': 4022, 'session': 4023, 'ponder': 4024, 'sergeant': 4025, 'spain': 4026, 'beatl': 4027, 'eastern': 4028, 'thompson': 4029, 'preserv': 4030, 'iraq': 4031, 'showdown': 4032, 'testament': 4033, 'randomli': 4034, 'glanc': 4035, 'gestur': 4036, 'what': 4037, 'cassidi': 4038, 'drip': 4039, 'israel': 4040, 'unleash': 4041, '13th': 4042, 'crown': 4043, 'orlean': 4044, 'petti': 4045, 'nun': 4046, 'distort': 4047, 'peck': 4048, 'angela': 4049, 'peril': 4050, 'valentin': 4051, 'coup': 4052, 'simultan': 4053, 'minimum': 4054, 'championship': 4055, 'zizek': 4056, 'scotland': 4057, 'brenda': 4058, 'cream': 4059, 'wig': 4060, 'stake': 4061, 'quinn': 4062, 'crow': 4063, 'calib': 4064, 'gentleman': 4065, 'restrain': 4066, 'unimagin': 4067, 'bro': 4068, '1984': 4069, 'climat': 4070, 'perpetu': 4071, 'miyazaki': 4072, 'rout': 4073, 'han': 4074, 'regist': 4075, 'exposit': 4076, 'jan': 4077, 'fido': 4078, 'valley': 4079, 'cooki': 4080, 'reson': 4081, 'stroke': 4082, 'represent': 4083, 'empathi': 4084, 'mon': 4085, 'shootout': 4086, 'travesti': 4087, 'crawl': 4088, 'sabrina': 4089, 'contradict': 4090, 'realm': 4091, 'din': 4092, 'buster': 4093, 'kurosawa': 4094, 'abomin': 4095, 'painter': 4096, 'meryl': 4097, 'businessman': 4098, 'ustinov': 4099, 'geek': 4100, 'ross': 4101, 'tacki': 4102, 'unseen': 4103, 'spacey': 4104, '1987': 4105, 'warrant': 4106, 'baldwin': 4107, 'censor': 4108, 'shoddi': 4109, 'delic': 4110, 'dana': 4111, 'pretens': 4112, 'derang': 4113, 'soderbergh': 4114, 'greg': 4115, '1997': 4116, 'cloud': 4117, 'compromis': 4118, 'demis': 4119, 'monoton': 4120, 'unsatisfi': 4121, 'sammi': 4122, 'shaki': 4123, 'josh': 4124, 'passabl': 4125, 'wax': 4126, 'perceiv': 4127, 'femm': 4128, 'absent': 4129, 'fuller': 4130, 'pole': 4131, 'sucker': 4132, 'distress': 4133, 'traumat': 4134, 'mclaglen': 4135, 'darren': 4136, 'crawford': 4137, 'stargat': 4138, 'correctli': 4139, 'furiou': 4140, 'unravel': 4141, 'tech': 4142, 'wholli': 4143, 'polici': 4144, 'austin': 4145, 'valid': 4146, 'verbal': 4147, 'norm': 4148, 'jewel': 4149, 'primit': 4150, 'exclus': 4151, 'seal': 4152, 'tarantino': 4153, 'deniro': 4154, 'kumar': 4155, 'clash': 4156, 'click': 4157, '1993': 4158, 'sid': 4159, 'nathan': 4160, 'anchor': 4161, 'judgment': 4162, 'accuraci': 4163, 'reluct': 4164, 'uncov': 4165, 'fenc': 4166, 'antonioni': 4167, 'fog': 4168, 'deceas': 4169, 'expedit': 4170, 'dee': 4171, 'malon': 4172, 'behold': 4173, 'hallucin': 4174, 'slam': 4175, 'murray': 4176, '3000': 4177, 'shanghai': 4178, 'dreck': 4179, 'roller': 4180, 'nicola': 4181, '1995': 4182, 'alec': 4183, 'logan': 4184, 'temper': 4185, 'unfair': 4186, 'fought': 4187, 'patienc': 4188, 'ritual': 4189, 'sheet': 4190, 'pocket': 4191, 'wretch': 4192, 'darn': 4193, '2008': 4194, 'debt': 4195, 'clerk': 4196, 'joel': 4197, 'fabric': 4198, 'mode': 4199, 'sunni': 4200, 'fart': 4201, 'crippl': 4202, 'sand': 4203, 'bake': 4204, 'sustain': 4205, 'tax': 4206, 'enforc': 4207, 'seldom': 4208, 'wang': 4209, 'conduct': 4210, 'vanc': 4211, 'trait': 4212, '1971': 4213, 'grief': 4214, 'outlin': 4215, 'critiqu': 4216, 'technicolor': 4217, 'runner': 4218, 'sweep': 4219, 'despis': 4220, 'fundament': 4221, 'penni': 4222, 'guitar': 4223, 'tactic': 4224, 'exhaust': 4225, 'canyon': 4226, 'robber': 4227, 'schedul': 4228, 'stuart': 4229, 'pete': 4230, 'preposter': 4231, 'bridget': 4232, 'preston': 4233, 'phil': 4234, 'isabel': 4235, 'soup': 4236, 'stark': 4237, 'clau': 4238, 'scriptwrit': 4239, 'shell': 4240, 'bias': 4241, 'conscious': 4242, 'rita': 4243, 'helpless': 4244, 'legaci': 4245, 'squad': 4246, 'divid': 4247, 'agenc': 4248, 'delv': 4249, 'marc': 4250, 'sugar': 4251, 'bloom': 4252, 'russia': 4253, 'flair': 4254, 'drove': 4255, 'consciou': 4256, 'inabl': 4257, 'lacklust': 4258, 'passag': 4259, 'rear': 4260, 'kansa': 4261, 'liberti': 4262, 'rehash': 4263, 'implic': 4264, 'culmin': 4265, 'cigarett': 4266, 'downey': 4267, 'newman': 4268, 'unexpectedli': 4269, 'restrict': 4270, 'alley': 4271, 'vomit': 4272, 'sentinel': 4273, 'gregori': 4274, 'boyl': 4275, 'invad': 4276, 'connor': 4277, 'propos': 4278, 'jodi': 4279, 'alicia': 4280, 'sniper': 4281, 'jacket': 4282, 'palanc': 4283, 'behaviour': 4284, 'sharon': 4285, 'feat': 4286, 'karl': 4287, 'chainsaw': 4288, 'mccoy': 4289, 'awhil': 4290, 'lush': 4291, 'cap': 4292, 'horn': 4293, 'foxx': 4294, 'asylum': 4295, 'improb': 4296, 'rampag': 4297, '22': 4298, 'tendenc': 4299, 'wrench': 4300, 'aesthet': 4301, 'delet': 4302, 'vet': 4303, '1936': 4304, 'bacon': 4305, 'kolchak': 4306, 'pale': 4307, 'ladder': 4308, 'rehears': 4309, 'tripe': 4310, 'arrow': 4311, 'rod': 4312, 'yeti': 4313, 'fright': 4314, 'conscienc': 4315, 'aristocrat': 4316, 'wildli': 4317, 'coaster': 4318, 'suffici': 4319, 'paradis': 4320, 'underneath': 4321, 'rhythm': 4322, 'lurk': 4323, 'paramount': 4324, 'shortcom': 4325, 'prank': 4326, 'loneli': 4327, 'tasteless': 4328, 'stream': 4329, 'wagner': 4330, 'sung': 4331, '1978': 4332, 'basing': 4333, 'hackney': 4334, '1988': 4335, 'hungri': 4336, 'spice': 4337, 'visitor': 4338, 'weav': 4339, 'elit': 4340, '1920': 4341, 'newcom': 4342, 'financ': 4343, 'el': 4344, 'thunderbird': 4345, 'filler': 4346, 'amazon': 4347, 'globe': 4348, '19th': 4349, 'tomorrow': 4350, 'suspicion': 4351, 'scoop': 4352, 'minu': 4353, 'hulk': 4354, 'rumor': 4355, 'en': 4356, 'heist': 4357, 'chamberlain': 4358, 'straightforward': 4359, 'immers': 4360, 'entranc': 4361, 'ram': 4362, 'cancer': 4363, 'quietli': 4364, 'brit': 4365, '75': 4366, 'penn': 4367, 'recogniz': 4368, 'atroc': 4369, 'tierney': 4370, 'dirt': 4371, 'abrupt': 4372, 'leigh': 4373, 'standout': 4374, 'worship': 4375, 'beverli': 4376, '1989': 4377, 'counterpart': 4378, 'naughti': 4379, '1939': 4380, 'teas': 4381, 'hopkin': 4382, 'inmat': 4383, 'bread': 4384, 'smell': 4385, 'ingeni': 4386, 'impos': 4387, 'minist': 4388, 'grudg': 4389, 'choppi': 4390, 'literari': 4391, 'posey': 4392, 'rub': 4393, 'paxton': 4394, 'wwe': 4395, 'curli': 4396, 'chavez': 4397, 'springer': 4398, 'secondari': 4399, 'iv': 4400, 'couch': 4401, 'lectur': 4402, 'policeman': 4403, 'injuri': 4404, 'cattl': 4405, 'bernard': 4406, 'nemesi': 4407, 'entitl': 4408, 'ace': 4409, 'skeptic': 4410, 'transcend': 4411, 'yearn': 4412, 'quaid': 4413, 'morbid': 4414, 'duel': 4415, 'convert': 4416, 'net': 4417, 'sublim': 4418, 'moreov': 4419, 'lindsay': 4420, 'watcher': 4421, 'esther': 4422, 'missil': 4423, 'misguid': 4424, 'enthral': 4425, 'heartfelt': 4426, 'geni': 4427, 'clan': 4428, 'nolan': 4429, 'sassi': 4430, 'variat': 4431, '1986': 4432, 'laurenc': 4433, 'attenborough': 4434, 'ratso': 4435, 'bean': 4436, 'vader': 4437, 'obstacl': 4438, 'puppi': 4439, 'dont': 4440, 'egg': 4441, 'setup': 4442, 'rosemari': 4443, 'artsi': 4444, 'kitti': 4445, 'unexplain': 4446, 'out': 4447, 'grin': 4448, 'youngest': 4449, 'hopelessli': 4450, 'mytholog': 4451, 'graini': 4452, 'tyler': 4453, 'enabl': 4454, 'facil': 4455, 'cruelti': 4456, 'bye': 4457, '1979': 4458, 'uncut': 4459, 'spiral': 4460, 'poe': 4461, 'carlito': 4462, 'characteris': 4463, 'steadi': 4464, 'buzz': 4465, 'kidman': 4466, 'hk': 4467, 'moder': 4468, 'diari': 4469, 'brood': 4470, 'reliabl': 4471, 'bounc': 4472, 'baffl': 4473, 'weather': 4474, 'spontan': 4475, 'effici': 4476, 'hain': 4477, 'disastr': 4478, 'oblig': 4479, 'clueless': 4480, 'patricia': 4481, 'kline': 4482, 'preming': 4483, 'narrow': 4484, 'niec': 4485, 'despic': 4486, 'bronson': 4487, 'brendan': 4488, 'gina': 4489, 'fuel': 4490, 'martha': 4491, 'athlet': 4492, 'acquaint': 4493, 'underworld': 4494, 'sweat': 4495, 'heap': 4496, 'hammi': 4497, 'christin': 4498, 'bewar': 4499, '1969': 4500, 'decept': 4501, 'exterior': 4502, 'gillian': 4503, 'hepburn': 4504, 'sooner': 4505, 'goof': 4506, 'viewpoint': 4507, 'loath': 4508, 'preachi': 4509, 'mayhem': 4510, 'suprem': 4511, 'loi': 4512, 'analyz': 4513, 'angst': 4514, '19': 4515, 'uh': 4516, 'enlist': 4517, 'harmless': 4518, 'dilemma': 4519, 'mermaid': 4520, 'trigger': 4521, 'headach': 4522, 'virtu': 4523, 'injur': 4524, 'biker': 4525, 'renaiss': 4526, 'scar': 4527, 'astound': 4528, 'sleepwalk': 4529, 'outlaw': 4530, 'rome': 4531, 'shatter': 4532, 'taboo': 4533, 'housewif': 4534, 'fontain': 4535, 'tick': 4536, 'circu': 4537, 'insipid': 4538, 'lester': 4539, 'dandi': 4540, '73': 4541, 'candl': 4542, 'amor': 4543, 'overlong': 4544, 'hooker': 4545, 'dismal': 4546, 'hokey': 4547, 'slimi': 4548, 'contempt': 4549, 'bent': 4550, 'guin': 4551, 'idol': 4552, 'redund': 4553, 'surgeri': 4554, 'steer': 4555, 'fluff': 4556, 'macho': 4557, 'hostag': 4558, 'boston': 4559, 'scorses': 4560, 'camcord': 4561, 'immatur': 4562, 'claustrophob': 4563, 'glorifi': 4564, 'foolish': 4565, 'phenomenon': 4566, 'stair': 4567, 'intric': 4568, 'dish': 4569, 'gere': 4570, 'stimul': 4571, 'ebert': 4572, 'zoom': 4573, 'cassavet': 4574, 'salt': 4575, 'spade': 4576, 'tripl': 4577, 'ariel': 4578, 'whore': 4579, 'oldest': 4580, 'filth': 4581, 'corbett': 4582, 'sox': 4583, 'faint': 4584, 'harold': 4585, 'frantic': 4586, 'trivia': 4587, 'corman': 4588, 'spree': 4589, 'messi': 4590, 'mutual': 4591, 'preced': 4592, 'mount': 4593, 'antagonist': 4594, 'rhyme': 4595, 'beard': 4596, '1981': 4597, 'gabl': 4598, 'gasp': 4599, 'fascist': 4600, '1976': 4601, 'alvin': 4602, 'astronaut': 4603, 'obligatori': 4604, 'flag': 4605, 'keen': 4606, 'cohen': 4607, 'shred': 4608, 'radiat': 4609, 'remad': 4610, 'nolt': 4611, 'dwarf': 4612, 'perman': 4613, 'muscl': 4614, 'flirt': 4615, 'widescreen': 4616, 'schlock': 4617, 'transplant': 4618, 'down': 4619, 'cush': 4620, 'margin': 4621, 'strongest': 4622, 'assert': 4623, 'proport': 4624, 'cow': 4625, 'flashi': 4626, 'spinal': 4627, 'joker': 4628, 'conquer': 4629, 'zane': 4630, 'shield': 4631, 'naschi': 4632, 'mobil': 4633, 'resum': 4634, 'scandal': 4635, 'inflict': 4636, 'triangl': 4637, 'bachelor': 4638, 'deer': 4639, 'sensual': 4640, 'hara': 4641, 'wield': 4642, '95': 4643, 'flock': 4644, 'persuad': 4645, 'vaniti': 4646, 'boob': 4647, 'info': 4648, 'neurot': 4649, 'strive': 4650, 'archiv': 4651, 'someday': 4652, 'instruct': 4653, 'interestingli': 4654, 'repris': 4655, 'brush': 4656, '28': 4657, 'claud': 4658, 'barn': 4659, 'discern': 4660, 'danish': 4661, 'divin': 4662, 'bitten': 4663, 'carey': 4664, 'fishburn': 4665, 'off': 4666, 'departur': 4667, 'mol': 4668, 'www': 4669, 'aborigin': 4670, '1945': 4671, 'raj': 4672, 'ritchi': 4673, 'submit': 4674, 'ish': 4675, 'banter': 4676, 'parson': 4677, 'traffic': 4678, 'prophet': 4679, 'hug': 4680, 'pixar': 4681, 'senior': 4682, 'recit': 4683, 'jade': 4684, 'bate': 4685, 'hapless': 4686, 'biblic': 4687, 'dame': 4688, 'pacif': 4689, 'undermin': 4690, 'axe': 4691, 'hilar': 4692, 'casino': 4693, 'pickford': 4694, 'neill': 4695, 'dylan': 4696, 'dim': 4697, 'earnest': 4698, 'timberlak': 4699, 'mobster': 4700, 'colin': 4701, 'kathryn': 4702, 'wendigo': 4703, 'miracul': 4704, 'proclaim': 4705, 'rot': 4706, 'clad': 4707, 'heartwarm': 4708, 'harrison': 4709, 'melissa': 4710, 'artwork': 4711, 'cb': 4712, 'fragil': 4713, 'helm': 4714, 'carlo': 4715, 'cycl': 4716, 'luka': 4717, 'vibrant': 4718, 'cher': 4719, 'cliffhang': 4720, 'europa': 4721, 'loretta': 4722, 'anton': 4723, 'frontier': 4724, 'bikini': 4725, 'vanessa': 4726, 'token': 4727, 'cerebr': 4728, 'breakfast': 4729, 'redneck': 4730, 'venom': 4731, 'jordan': 4732, 'choke': 4733, 'lui': 4734, 'orphan': 4735, 'flavor': 4736, 'marlon': 4737, 'rooki': 4738, 'misfortun': 4739, 'akin': 4740, 'foil': 4741, 'uma': 4742, 'toronto': 4743, 'holocaust': 4744, 'antholog': 4745, 'static': 4746, 'aris': 4747, 'seedi': 4748, 'pc': 4749, 'milo': 4750, 'illus': 4751, 'shepherd': 4752, 'legitim': 4753, 'nope': 4754, 'lucil': 4755, 'sicken': 4756, 'vile': 4757, 'bondag': 4758, 'jo': 4759, 'feast': 4760, 'trier': 4761, 'http': 4762, 'northern': 4763, 'eli': 4764, 'articl': 4765, 'razor': 4766, 'estrang': 4767, 'winchest': 4768, 'isra': 4769, 'electron': 4770, 'wardrob': 4771, 'mason': 4772, 'blatantli': 4773, 'alexandr': 4774, 'mathieu': 4775, 'wrestler': 4776, 'highway': 4777, 'fifth': 4778, 'frog': 4779, 'shorter': 4780, 'outdat': 4781, 'disregard': 4782, 'boyer': 4783, 'peer': 4784, 'ceremoni': 4785, 'affleck': 4786, 'glare': 4787, 'deem': 4788, 'swept': 4789, 'howl': 4790, 'audrey': 4791, 'smack': 4792, 'feminin': 4793, 'dudley': 4794, 'leather': 4795, 'retriev': 4796, 'abund': 4797, 'magician': 4798, 'clinic': 4799, 'styliz': 4800, 'charlton': 4801, 'comprehend': 4802, 'tack': 4803, 'oppon': 4804, 'gilbert': 4805, 'huston': 4806, 'gunga': 4807, 'turd': 4808, 'ideolog': 4809, 'knightley': 4810, 'psych': 4811, 'cartoonish': 4812, 'nightclub': 4813, 'linear': 4814, '1991': 4815, 'tara': 4816, 'sleaz': 4817, 'evolut': 4818, 'salman': 4819, 'chip': 4820, 'durat': 4821, 'mitch': 4822, 'einstein': 4823, 'senat': 4824, 'summar': 4825, 'toe': 4826, 'breakdown': 4827, 'collector': 4828, 'bogu': 4829, 'lavish': 4830, 'whack': 4831, 'newer': 4832, 'potter': 4833, 'phenomen': 4834, '4th': 4835, 'lifeless': 4836, 'monument': 4837, 'bastard': 4838, 'energet': 4839, '1994': 4840, 'client': 4841, 'corn': 4842, 'conrad': 4843, 'uniformli': 4844, 'deliver': 4845, 'snatch': 4846, 'greet': 4847, 'lighter': 4848, 'braveheart': 4849, 'btw': 4850, 'moe': 4851, 'spine': 4852, 'spawn': 4853, 'boo': 4854, 'compris': 4855, 'plate': 4856, 'cemeteri': 4857, 'cuban': 4858, 'goldsworthi': 4859, 'jedi': 4860, 'armstrong': 4861, 'historian': 4862, 'inaccuraci': 4863, 'alleg': 4864, 'bulk': 4865, 'neatli': 4866, 'kent': 4867, 'healthi': 4868, 'ol': 4869, 'ie': 4870, 'luxuri': 4871, 'clara': 4872, 'capot': 4873, 'sorrow': 4874, 'appl': 4875, 'jare': 4876, 'lex': 4877, 'creek': 4878, 'liu': 4879, 'firmli': 4880, 'gilliam': 4881, 'trauma': 4882, 'jule': 4883, 'cecil': 4884, 'embark': 4885, 'undead': 4886, 'belli': 4887, 'pronounc': 4888, 'wtf': 4889, 'outright': 4890, 'spectacl': 4891, '1974': 4892, 'judd': 4893, 'nina': 4894, 'signal': 4895, 'replay': 4896, 'undertak': 4897, 'jam': 4898, 'bori': 4899, '1977': 4900, 'eleven': 4901, 'mcqueen': 4902, 'fluid': 4903, 'occup': 4904, 'constitut': 4905, 'kazan': 4906, 'evelyn': 4907, 'randolph': 4908, 'blur': 4909, 'lauren': 4910, 'inclus': 4911, 'vain': 4912, 'fruit': 4913, 'poker': 4914, 'knee': 4915, 'unattract': 4916, 'cape': 4917, 'abound': 4918, 'subtli': 4919, 'mum': 4920, 'truman': 4921, 'inaccur': 4922, 'kiddi': 4923, 'id': 4924, 'meal': 4925, 'antonio': 4926, 'carmen': 4927, 'bait': 4928, 'comprehens': 4929, 'sacrif': 4930, 'decapit': 4931, 'porter': 4932, 'pioneer': 4933, 'congratul': 4934, 'galaxi': 4935, 'palm': 4936, 'conan': 4937, 'tokyo': 4938, 'vignett': 4939, 'roar': 4940, 'groan': 4941, 'miniseri': 4942, 'miami': 4943, 'ash': 4944, '1985': 4945, 'basket': 4946, 'walt': 4947, 'aussi': 4948, 'propheci': 4949, 'genet': 4950, 'sidewalk': 4951, 'unsuspect': 4952, 'lanc': 4953, 'bsg': 4954, 'forgiven': 4955, 'curtain': 4956, 'comb': 4957, 'goldblum': 4958, 'spray': 4959, 'rosario': 4960, 'paula': 4961, 'pepper': 4962, 'relentless': 4963, 'scarfac': 4964, 'weaker': 4965, 'evan': 4966, 'modest': 4967, 'vastli': 4968, '21st': 4969, 'profil': 4970, 'scariest': 4971, 'optimist': 4972, 'hackman': 4973, 'reincarn': 4974, 'victorian': 4975, 'growth': 4976, 'mice': 4977, 'sophi': 4978, 'frontal': 4979, 'ghetto': 4980, 'bach': 4981, 'incorrect': 4982, 'ingrid': 4983, 'verg': 4984, 'asset': 4985, 'monti': 4986, 'turtl': 4987, 'masterson': 4988, 'omin': 4989, 'orchestr': 4990, 'substanti': 4991, 'dubiou': 4992, 'bravo': 4993, 'hostil': 4994, 'macabr': 4995, 'weari': 4996, 'sparkl': 4997, 'assort': 4998, 'jill': 4999}\n"
     ]
    }
   ],
   "source": [
    "word_dict = build_dict(train_X)\n",
    "print(word_dict)"
   ]
  },
  {
   "cell_type": "markdown",
   "metadata": {},
   "source": [
    "**Question:** What are the five most frequently appearing (tokenized) words in the training set? Does it makes sense that these words appear frequently in the training set?"
   ]
  },
  {
   "cell_type": "markdown",
   "metadata": {},
   "source": [
    "**Answer:** The five most frequently appearing words are movi, film, one, like and time. Yes it makes sense because the review is about movie review."
   ]
  },
  {
   "cell_type": "code",
   "execution_count": 30,
   "metadata": {},
   "outputs": [
    {
     "name": "stdout",
     "output_type": "stream",
     "text": [
      "[('movi', 2), ('film', 3), ('one', 4), ('like', 5), ('time', 6)]\n"
     ]
    }
   ],
   "source": [
    "# TODO: Use this space to determine the five most frequently appearing words in the training set.\n",
    "word_list = list(word_dict.items())\n",
    "print(word_list[:5])"
   ]
  },
  {
   "cell_type": "markdown",
   "metadata": {},
   "source": [
    "### Save `word_dict`\n",
    "\n",
    "Later on when we construct an endpoint which processes a submitted review we will need to make use of the `word_dict` which we have created. As such, we will save it to a file now for future use."
   ]
  },
  {
   "cell_type": "code",
   "execution_count": 31,
   "metadata": {},
   "outputs": [],
   "source": [
    "data_dir = '../data/pytorch' # The folder we will use for storing data\n",
    "if not os.path.exists(data_dir): # Make sure that the folder exists\n",
    "    os.makedirs(data_dir)"
   ]
  },
  {
   "cell_type": "code",
   "execution_count": 32,
   "metadata": {},
   "outputs": [],
   "source": [
    "with open(os.path.join(data_dir, 'word_dict.pkl'), \"wb\") as f:\n",
    "    pickle.dump(word_dict, f)"
   ]
  },
  {
   "cell_type": "markdown",
   "metadata": {},
   "source": [
    "### Transform the reviews\n",
    "\n",
    "Now that we have our word dictionary which allows us to transform the words appearing in the reviews into integers, it is time to make use of it and convert our reviews to their integer sequence representation, making sure to pad or truncate to a fixed length, which in our case is `500`."
   ]
  },
  {
   "cell_type": "code",
   "execution_count": 33,
   "metadata": {},
   "outputs": [],
   "source": [
    "def convert_and_pad(word_dict, sentence, pad=500):\n",
    "    NOWORD = 0 # We will use 0 to represent the 'no word' category\n",
    "    INFREQ = 1 # and we use 1 to represent the infrequent words, i.e., words not appearing in word_dict\n",
    "    \n",
    "    working_sentence = [NOWORD] * pad\n",
    "    \n",
    "    for word_index, word in enumerate(sentence[:pad]):\n",
    "        if word in word_dict:\n",
    "            working_sentence[word_index] = word_dict[word]\n",
    "        else:\n",
    "            working_sentence[word_index] = INFREQ\n",
    "            \n",
    "    return working_sentence, min(len(sentence), pad)\n",
    "\n",
    "def convert_and_pad_data(word_dict, data, pad=500):\n",
    "    result = []\n",
    "    lengths = []\n",
    "    \n",
    "    for sentence in data:\n",
    "        converted, leng = convert_and_pad(word_dict, sentence, pad)\n",
    "        result.append(converted)\n",
    "        lengths.append(leng)\n",
    "        \n",
    "    return np.array(result), np.array(lengths)"
   ]
  },
  {
   "cell_type": "code",
   "execution_count": 34,
   "metadata": {},
   "outputs": [],
   "source": [
    "train_X, train_X_len = convert_and_pad_data(word_dict, train_X)\n",
    "test_X, test_X_len = convert_and_pad_data(word_dict, test_X)"
   ]
  },
  {
   "cell_type": "markdown",
   "metadata": {},
   "source": [
    "As a quick check to make sure that things are working as intended, check to see what one of the reviews in the training set looks like after having been processeed. Does this look reasonable? What is the length of a review in the training set?"
   ]
  },
  {
   "cell_type": "code",
   "execution_count": 36,
   "metadata": {},
   "outputs": [
    {
     "data": {
      "text/plain": [
       "500"
      ]
     },
     "execution_count": 36,
     "metadata": {},
     "output_type": "execute_result"
    }
   ],
   "source": [
    "# Use this cell to examine one of the processed reviews to make sure everything is working as intended.\n",
    "len(train_X[100])"
   ]
  },
  {
   "cell_type": "markdown",
   "metadata": {},
   "source": [
    "**Question:** In the cells above we use the `preprocess_data` and `convert_and_pad_data` methods to process both the training and testing set. Why or why not might this be a problem?"
   ]
  },
  {
   "cell_type": "markdown",
   "metadata": {},
   "source": [
    "**Answer:** we preprocess the data so that we can have words for each review. we use convert_and_pad_data to convert our reviews to their integer representation and also truncate and pad them to a fixed length. "
   ]
  },
  {
   "cell_type": "markdown",
   "metadata": {},
   "source": [
    "## Step 3: Upload the data to S3\n",
    "\n",
    "As in the XGBoost notebook, we will need to upload the training dataset to S3 in order for our training code to access it. For now we will save it locally and we will upload to S3 later on.\n",
    "\n",
    "### Save the processed training dataset locally\n",
    "\n",
    "It is important to note the format of the data that we are saving as we will need to know it when we write the training code. In our case, each row of the dataset has the form `label`, `length`, `review[500]` where `review[500]` is a sequence of `500` integers representing the words in the review."
   ]
  },
  {
   "cell_type": "code",
   "execution_count": 37,
   "metadata": {},
   "outputs": [],
   "source": [
    "import pandas as pd\n",
    "    \n",
    "pd.concat([pd.DataFrame(train_y), pd.DataFrame(train_X_len), pd.DataFrame(train_X)], axis=1) \\\n",
    "        .to_csv(os.path.join(data_dir, 'train.csv'), header=False, index=False)"
   ]
  },
  {
   "cell_type": "markdown",
   "metadata": {},
   "source": [
    "### Uploading the training data\n",
    "\n",
    "\n",
    "Next, we need to upload the training data to the SageMaker default S3 bucket so that we can provide access to it while training our model."
   ]
  },
  {
   "cell_type": "code",
   "execution_count": 38,
   "metadata": {},
   "outputs": [],
   "source": [
    "import sagemaker\n",
    "\n",
    "sagemaker_session = sagemaker.Session()\n",
    "\n",
    "bucket = sagemaker_session.default_bucket()\n",
    "prefix = 'sagemaker/sentiment_rnn'\n",
    "\n",
    "role = sagemaker.get_execution_role()"
   ]
  },
  {
   "cell_type": "code",
   "execution_count": 39,
   "metadata": {},
   "outputs": [],
   "source": [
    "input_data = sagemaker_session.upload_data(path=data_dir, bucket=bucket, key_prefix=prefix)"
   ]
  },
  {
   "cell_type": "markdown",
   "metadata": {},
   "source": [
    "**NOTE:** The cell above uploads the entire contents of our data directory. This includes the `word_dict.pkl` file. This is fortunate as we will need this later on when we create an endpoint that accepts an arbitrary review. For now, we will just take note of the fact that it resides in the data directory (and so also in the S3 training bucket) and that we will need to make sure it gets saved in the model directory."
   ]
  },
  {
   "cell_type": "markdown",
   "metadata": {},
   "source": [
    "## Step 4: Build and Train the PyTorch Model\n",
    "\n",
    "In the XGBoost notebook we discussed what a model is in the SageMaker framework. In particular, a model comprises three objects\n",
    "\n",
    " - Model Artifacts,\n",
    " - Training Code, and\n",
    " - Inference Code,\n",
    " \n",
    "each of which interact with one another. In the XGBoost example we used training and inference code that was provided by Amazon. Here we will still be using containers provided by Amazon with the added benefit of being able to include our own custom code.\n",
    "\n",
    "We will start by implementing our own neural network in PyTorch along with a training script. For the purposes of this project we have provided the necessary model object in the `model.py` file, inside of the `train` folder. You can see the provided implementation by running the cell below."
   ]
  },
  {
   "cell_type": "code",
   "execution_count": 40,
   "metadata": {},
   "outputs": [
    {
     "name": "stdout",
     "output_type": "stream",
     "text": [
      "\u001b[34mimport\u001b[39;49;00m \u001b[04m\u001b[36mtorch\u001b[39;49;00m\u001b[04m\u001b[36m.\u001b[39;49;00m\u001b[04m\u001b[36mnn\u001b[39;49;00m \u001b[34mas\u001b[39;49;00m \u001b[04m\u001b[36mnn\u001b[39;49;00m\r\n",
      "\r\n",
      "\u001b[34mclass\u001b[39;49;00m \u001b[04m\u001b[32mLSTMClassifier\u001b[39;49;00m(nn.Module):\r\n",
      "    \u001b[33m\"\"\"\u001b[39;49;00m\r\n",
      "\u001b[33m    This is the simple RNN model we will be using to perform Sentiment Analysis.\u001b[39;49;00m\r\n",
      "\u001b[33m    \"\"\"\u001b[39;49;00m\r\n",
      "\r\n",
      "    \u001b[34mdef\u001b[39;49;00m \u001b[32m__init__\u001b[39;49;00m(\u001b[36mself\u001b[39;49;00m, embedding_dim, hidden_dim, vocab_size):\r\n",
      "        \u001b[33m\"\"\"\u001b[39;49;00m\r\n",
      "\u001b[33m        Initialize the model by settingg up the various layers.\u001b[39;49;00m\r\n",
      "\u001b[33m        \"\"\"\u001b[39;49;00m\r\n",
      "        \u001b[36msuper\u001b[39;49;00m(LSTMClassifier, \u001b[36mself\u001b[39;49;00m).\u001b[32m__init__\u001b[39;49;00m()\r\n",
      "\r\n",
      "        \u001b[36mself\u001b[39;49;00m.embedding = nn.Embedding(vocab_size, embedding_dim, padding_idx=\u001b[34m0\u001b[39;49;00m)\r\n",
      "        \u001b[36mself\u001b[39;49;00m.lstm = nn.LSTM(embedding_dim, hidden_dim)\r\n",
      "        \u001b[36mself\u001b[39;49;00m.dense = nn.Linear(in_features=hidden_dim, out_features=\u001b[34m1\u001b[39;49;00m)\r\n",
      "        \u001b[36mself\u001b[39;49;00m.sig = nn.Sigmoid()\r\n",
      "        \r\n",
      "        \u001b[36mself\u001b[39;49;00m.word_dict = \u001b[34mNone\u001b[39;49;00m\r\n",
      "\r\n",
      "    \u001b[34mdef\u001b[39;49;00m \u001b[32mforward\u001b[39;49;00m(\u001b[36mself\u001b[39;49;00m, x):\r\n",
      "        \u001b[33m\"\"\"\u001b[39;49;00m\r\n",
      "\u001b[33m        Perform a forward pass of our model on some input.\u001b[39;49;00m\r\n",
      "\u001b[33m        \"\"\"\u001b[39;49;00m\r\n",
      "        x = x.t()\r\n",
      "        lengths = x[\u001b[34m0\u001b[39;49;00m,:]\r\n",
      "        reviews = x[\u001b[34m1\u001b[39;49;00m:,:]\r\n",
      "        embeds = \u001b[36mself\u001b[39;49;00m.embedding(reviews)\r\n",
      "        lstm_out, _ = \u001b[36mself\u001b[39;49;00m.lstm(embeds)\r\n",
      "        out = \u001b[36mself\u001b[39;49;00m.dense(lstm_out)\r\n",
      "        out = out[lengths - \u001b[34m1\u001b[39;49;00m, \u001b[36mrange\u001b[39;49;00m(\u001b[36mlen\u001b[39;49;00m(lengths))]\r\n",
      "        \u001b[34mreturn\u001b[39;49;00m \u001b[36mself\u001b[39;49;00m.sig(out.squeeze())\r\n"
     ]
    }
   ],
   "source": [
    "!pygmentize train/model.py"
   ]
  },
  {
   "cell_type": "markdown",
   "metadata": {},
   "source": [
    "The important takeaway from the implementation provided is that there are three parameters that we may wish to tweak to improve the performance of our model. These are the embedding dimension, the hidden dimension and the size of the vocabulary. We will likely want to make these parameters configurable in the training script so that if we wish to modify them we do not need to modify the script itself. We will see how to do this later on. To start we will write some of the training code in the notebook so that we can more easily diagnose any issues that arise.\n",
    "\n",
    "First we will load a small portion of the training data set to use as a sample. It would be very time consuming to try and train the model completely in the notebook as we do not have access to a gpu and the compute instance that we are using is not particularly powerful. However, we can work on a small bit of the data to get a feel for how our training script is behaving."
   ]
  },
  {
   "cell_type": "code",
   "execution_count": 41,
   "metadata": {},
   "outputs": [],
   "source": [
    "import torch\n",
    "import torch.utils.data\n",
    "\n",
    "# Read in only the first 250 rows\n",
    "train_sample = pd.read_csv(os.path.join(data_dir, 'train.csv'), header=None, names=None, nrows=250)\n",
    "\n",
    "# Turn the input pandas dataframe into tensors\n",
    "train_sample_y = torch.from_numpy(train_sample[[0]].values).float().squeeze()\n",
    "train_sample_X = torch.from_numpy(train_sample.drop([0], axis=1).values).long()\n",
    "\n",
    "# Build the dataset\n",
    "train_sample_ds = torch.utils.data.TensorDataset(train_sample_X, train_sample_y)\n",
    "# Build the dataloader\n",
    "train_sample_dl = torch.utils.data.DataLoader(train_sample_ds, batch_size=50)"
   ]
  },
  {
   "cell_type": "markdown",
   "metadata": {},
   "source": [
    "### (TODO) Writing the training method\n",
    "\n",
    "Next we need to write the training code itself. This should be very similar to training methods that you have written before to train PyTorch models. We will leave any difficult aspects such as model saving / loading and parameter loading until a little later."
   ]
  },
  {
   "cell_type": "code",
   "execution_count": 42,
   "metadata": {},
   "outputs": [],
   "source": [
    "def train(model, train_loader, epochs, optimizer, loss_fn, device):\n",
    "    for epoch in range(1, epochs + 1):\n",
    "        model.train()\n",
    "        total_loss = 0\n",
    "        for batch in train_loader:         \n",
    "            batch_X, batch_y = batch\n",
    "            \n",
    "            batch_X = batch_X.to(device)\n",
    "            batch_y = batch_y.to(device)\n",
    "            \n",
    "            # TODO: Complete this train method to train the model provided.\n",
    "            optimizer.zero_grad()\n",
    "            model_output = model(batch_X)\n",
    "            loss = loss_fn(model_output, batch_y)\n",
    "            loss.backward()\n",
    "            optimizer.step()\n",
    "            \n",
    "            total_loss += loss.data.item()\n",
    "        print(\"Epoch: {}, BCELoss: {}\".format(epoch, total_loss / len(train_loader)))"
   ]
  },
  {
   "cell_type": "markdown",
   "metadata": {},
   "source": [
    "Supposing we have the training method above, we will test that it is working by writing a bit of code in the notebook that executes our training method on the small sample training set that we loaded earlier. The reason for doing this in the notebook is so that we have an opportunity to fix any errors that arise early when they are easier to diagnose."
   ]
  },
  {
   "cell_type": "code",
   "execution_count": 43,
   "metadata": {},
   "outputs": [
    {
     "name": "stdout",
     "output_type": "stream",
     "text": [
      "Epoch: 1, BCELoss: 0.6941887736320496\n",
      "Epoch: 2, BCELoss: 0.6848819732666016\n",
      "Epoch: 3, BCELoss: 0.6766939282417297\n",
      "Epoch: 4, BCELoss: 0.667283296585083\n",
      "Epoch: 5, BCELoss: 0.6551642179489136\n"
     ]
    }
   ],
   "source": [
    "import torch.optim as optim\n",
    "from train.model import LSTMClassifier\n",
    "\n",
    "device = torch.device(\"cuda\" if torch.cuda.is_available() else \"cpu\")\n",
    "model = LSTMClassifier(32, 100, 5000).to(device)\n",
    "optimizer = optim.Adam(model.parameters())\n",
    "loss_fn = torch.nn.BCELoss()\n",
    "\n",
    "train(model, train_sample_dl, 5, optimizer, loss_fn, device)"
   ]
  },
  {
   "cell_type": "markdown",
   "metadata": {},
   "source": [
    "In order to construct a PyTorch model using SageMaker we must provide SageMaker with a training script. We may optionally include a directory which will be copied to the container and from which our training code will be run. When the training container is executed it will check the uploaded directory (if there is one) for a `requirements.txt` file and install any required Python libraries, after which the training script will be run."
   ]
  },
  {
   "cell_type": "markdown",
   "metadata": {},
   "source": [
    "### (TODO) Training the model\n",
    "\n",
    "When a PyTorch model is constructed in SageMaker, an entry point must be specified. This is the Python file which will be executed when the model is trained. Inside of the `train` directory is a file called `train.py` which has been provided and which contains most of the necessary code to train our model. The only thing that is missing is the implementation of the `train()` method which you wrote earlier in this notebook.\n",
    "\n",
    "**TODO**: Copy the `train()` method written above and paste it into the `train/train.py` file where required.\n",
    "\n",
    "The way that SageMaker passes hyperparameters to the training script is by way of arguments. These arguments can then be parsed and used in the training script. To see how this is done take a look at the provided `train/train.py` file."
   ]
  },
  {
   "cell_type": "code",
   "execution_count": 44,
   "metadata": {},
   "outputs": [],
   "source": [
    "from sagemaker.pytorch import PyTorch\n",
    "\n",
    "estimator = PyTorch(entry_point=\"train.py\",\n",
    "                    source_dir=\"train\",\n",
    "                    role=role,\n",
    "                    framework_version='0.4.0',\n",
    "                    train_instance_count=1,\n",
    "                    train_instance_type='ml.p2.xlarge',\n",
    "                    hyperparameters={\n",
    "                        'epochs': 10,\n",
    "                        'hidden_dim': 200,\n",
    "                    })"
   ]
  },
  {
   "cell_type": "code",
   "execution_count": 45,
   "metadata": {},
   "outputs": [
    {
     "name": "stderr",
     "output_type": "stream",
     "text": [
      "'create_image_uri' will be deprecated in favor of 'ImageURIProvider' class in SageMaker Python SDK v2.\n",
      "'s3_input' class will be renamed to 'TrainingInput' in SageMaker Python SDK v2.\n",
      "'create_image_uri' will be deprecated in favor of 'ImageURIProvider' class in SageMaker Python SDK v2.\n"
     ]
    },
    {
     "ename": "ResourceLimitExceeded",
     "evalue": "An error occurred (ResourceLimitExceeded) when calling the CreateTrainingJob operation: The account-level service limit 'ml.p2.xlarge for training job usage' is 0 Instances, with current utilization of 0 Instances and a request delta of 1 Instances. Please contact AWS support to request an increase for this limit.",
     "output_type": "error",
     "traceback": [
      "\u001b[0;31m---------------------------------------------------------------------------\u001b[0m",
      "\u001b[0;31mResourceLimitExceeded\u001b[0m                     Traceback (most recent call last)",
      "\u001b[0;32m<ipython-input-45-0e8223086435>\u001b[0m in \u001b[0;36m<module>\u001b[0;34m\u001b[0m\n\u001b[0;32m----> 1\u001b[0;31m \u001b[0mestimator\u001b[0m\u001b[0;34m.\u001b[0m\u001b[0mfit\u001b[0m\u001b[0;34m(\u001b[0m\u001b[0;34m{\u001b[0m\u001b[0;34m'training'\u001b[0m\u001b[0;34m:\u001b[0m \u001b[0minput_data\u001b[0m\u001b[0;34m}\u001b[0m\u001b[0;34m)\u001b[0m\u001b[0;34m\u001b[0m\u001b[0;34m\u001b[0m\u001b[0m\n\u001b[0m",
      "\u001b[0;32m~/anaconda3/envs/pytorch_p36/lib/python3.6/site-packages/sagemaker/estimator.py\u001b[0m in \u001b[0;36mfit\u001b[0;34m(self, inputs, wait, logs, job_name, experiment_config)\u001b[0m\n\u001b[1;32m    494\u001b[0m         \u001b[0mself\u001b[0m\u001b[0;34m.\u001b[0m\u001b[0m_prepare_for_training\u001b[0m\u001b[0;34m(\u001b[0m\u001b[0mjob_name\u001b[0m\u001b[0;34m=\u001b[0m\u001b[0mjob_name\u001b[0m\u001b[0;34m)\u001b[0m\u001b[0;34m\u001b[0m\u001b[0;34m\u001b[0m\u001b[0m\n\u001b[1;32m    495\u001b[0m \u001b[0;34m\u001b[0m\u001b[0m\n\u001b[0;32m--> 496\u001b[0;31m         \u001b[0mself\u001b[0m\u001b[0;34m.\u001b[0m\u001b[0mlatest_training_job\u001b[0m \u001b[0;34m=\u001b[0m \u001b[0m_TrainingJob\u001b[0m\u001b[0;34m.\u001b[0m\u001b[0mstart_new\u001b[0m\u001b[0;34m(\u001b[0m\u001b[0mself\u001b[0m\u001b[0;34m,\u001b[0m \u001b[0minputs\u001b[0m\u001b[0;34m,\u001b[0m \u001b[0mexperiment_config\u001b[0m\u001b[0;34m)\u001b[0m\u001b[0;34m\u001b[0m\u001b[0;34m\u001b[0m\u001b[0m\n\u001b[0m\u001b[1;32m    497\u001b[0m         \u001b[0mself\u001b[0m\u001b[0;34m.\u001b[0m\u001b[0mjobs\u001b[0m\u001b[0;34m.\u001b[0m\u001b[0mappend\u001b[0m\u001b[0;34m(\u001b[0m\u001b[0mself\u001b[0m\u001b[0;34m.\u001b[0m\u001b[0mlatest_training_job\u001b[0m\u001b[0;34m)\u001b[0m\u001b[0;34m\u001b[0m\u001b[0;34m\u001b[0m\u001b[0m\n\u001b[1;32m    498\u001b[0m         \u001b[0;32mif\u001b[0m \u001b[0mwait\u001b[0m\u001b[0;34m:\u001b[0m\u001b[0;34m\u001b[0m\u001b[0;34m\u001b[0m\u001b[0m\n",
      "\u001b[0;32m~/anaconda3/envs/pytorch_p36/lib/python3.6/site-packages/sagemaker/estimator.py\u001b[0m in \u001b[0;36mstart_new\u001b[0;34m(cls, estimator, inputs, experiment_config)\u001b[0m\n\u001b[1;32m   1089\u001b[0m             \u001b[0mtrain_args\u001b[0m\u001b[0;34m[\u001b[0m\u001b[0;34m\"enable_sagemaker_metrics\"\u001b[0m\u001b[0;34m]\u001b[0m \u001b[0;34m=\u001b[0m \u001b[0mestimator\u001b[0m\u001b[0;34m.\u001b[0m\u001b[0menable_sagemaker_metrics\u001b[0m\u001b[0;34m\u001b[0m\u001b[0;34m\u001b[0m\u001b[0m\n\u001b[1;32m   1090\u001b[0m \u001b[0;34m\u001b[0m\u001b[0m\n\u001b[0;32m-> 1091\u001b[0;31m         \u001b[0mestimator\u001b[0m\u001b[0;34m.\u001b[0m\u001b[0msagemaker_session\u001b[0m\u001b[0;34m.\u001b[0m\u001b[0mtrain\u001b[0m\u001b[0;34m(\u001b[0m\u001b[0;34m**\u001b[0m\u001b[0mtrain_args\u001b[0m\u001b[0;34m)\u001b[0m\u001b[0;34m\u001b[0m\u001b[0;34m\u001b[0m\u001b[0m\n\u001b[0m\u001b[1;32m   1092\u001b[0m \u001b[0;34m\u001b[0m\u001b[0m\n\u001b[1;32m   1093\u001b[0m         \u001b[0;32mreturn\u001b[0m \u001b[0mcls\u001b[0m\u001b[0;34m(\u001b[0m\u001b[0mestimator\u001b[0m\u001b[0;34m.\u001b[0m\u001b[0msagemaker_session\u001b[0m\u001b[0;34m,\u001b[0m \u001b[0mestimator\u001b[0m\u001b[0;34m.\u001b[0m\u001b[0m_current_job_name\u001b[0m\u001b[0;34m)\u001b[0m\u001b[0;34m\u001b[0m\u001b[0;34m\u001b[0m\u001b[0m\n",
      "\u001b[0;32m~/anaconda3/envs/pytorch_p36/lib/python3.6/site-packages/sagemaker/session.py\u001b[0m in \u001b[0;36mtrain\u001b[0;34m(self, input_mode, input_config, role, job_name, output_config, resource_config, vpc_config, hyperparameters, stop_condition, tags, metric_definitions, enable_network_isolation, image, algorithm_arn, encrypt_inter_container_traffic, train_use_spot_instances, checkpoint_s3_uri, checkpoint_local_path, experiment_config, debugger_rule_configs, debugger_hook_config, tensorboard_output_config, enable_sagemaker_metrics)\u001b[0m\n\u001b[1;32m    588\u001b[0m         \u001b[0mLOGGER\u001b[0m\u001b[0;34m.\u001b[0m\u001b[0minfo\u001b[0m\u001b[0;34m(\u001b[0m\u001b[0;34m\"Creating training-job with name: %s\"\u001b[0m\u001b[0;34m,\u001b[0m \u001b[0mjob_name\u001b[0m\u001b[0;34m)\u001b[0m\u001b[0;34m\u001b[0m\u001b[0;34m\u001b[0m\u001b[0m\n\u001b[1;32m    589\u001b[0m         \u001b[0mLOGGER\u001b[0m\u001b[0;34m.\u001b[0m\u001b[0mdebug\u001b[0m\u001b[0;34m(\u001b[0m\u001b[0;34m\"train request: %s\"\u001b[0m\u001b[0;34m,\u001b[0m \u001b[0mjson\u001b[0m\u001b[0;34m.\u001b[0m\u001b[0mdumps\u001b[0m\u001b[0;34m(\u001b[0m\u001b[0mtrain_request\u001b[0m\u001b[0;34m,\u001b[0m \u001b[0mindent\u001b[0m\u001b[0;34m=\u001b[0m\u001b[0;36m4\u001b[0m\u001b[0;34m)\u001b[0m\u001b[0;34m)\u001b[0m\u001b[0;34m\u001b[0m\u001b[0;34m\u001b[0m\u001b[0m\n\u001b[0;32m--> 590\u001b[0;31m         \u001b[0mself\u001b[0m\u001b[0;34m.\u001b[0m\u001b[0msagemaker_client\u001b[0m\u001b[0;34m.\u001b[0m\u001b[0mcreate_training_job\u001b[0m\u001b[0;34m(\u001b[0m\u001b[0;34m**\u001b[0m\u001b[0mtrain_request\u001b[0m\u001b[0;34m)\u001b[0m\u001b[0;34m\u001b[0m\u001b[0;34m\u001b[0m\u001b[0m\n\u001b[0m\u001b[1;32m    591\u001b[0m \u001b[0;34m\u001b[0m\u001b[0m\n\u001b[1;32m    592\u001b[0m     def process(\n",
      "\u001b[0;32m~/anaconda3/envs/pytorch_p36/lib/python3.6/site-packages/botocore/client.py\u001b[0m in \u001b[0;36m_api_call\u001b[0;34m(self, *args, **kwargs)\u001b[0m\n\u001b[1;32m    314\u001b[0m                     \"%s() only accepts keyword arguments.\" % py_operation_name)\n\u001b[1;32m    315\u001b[0m             \u001b[0;31m# The \"self\" in this scope is referring to the BaseClient.\u001b[0m\u001b[0;34m\u001b[0m\u001b[0;34m\u001b[0m\u001b[0;34m\u001b[0m\u001b[0m\n\u001b[0;32m--> 316\u001b[0;31m             \u001b[0;32mreturn\u001b[0m \u001b[0mself\u001b[0m\u001b[0;34m.\u001b[0m\u001b[0m_make_api_call\u001b[0m\u001b[0;34m(\u001b[0m\u001b[0moperation_name\u001b[0m\u001b[0;34m,\u001b[0m \u001b[0mkwargs\u001b[0m\u001b[0;34m)\u001b[0m\u001b[0;34m\u001b[0m\u001b[0;34m\u001b[0m\u001b[0m\n\u001b[0m\u001b[1;32m    317\u001b[0m \u001b[0;34m\u001b[0m\u001b[0m\n\u001b[1;32m    318\u001b[0m         \u001b[0m_api_call\u001b[0m\u001b[0;34m.\u001b[0m\u001b[0m__name__\u001b[0m \u001b[0;34m=\u001b[0m \u001b[0mstr\u001b[0m\u001b[0;34m(\u001b[0m\u001b[0mpy_operation_name\u001b[0m\u001b[0;34m)\u001b[0m\u001b[0;34m\u001b[0m\u001b[0;34m\u001b[0m\u001b[0m\n",
      "\u001b[0;32m~/anaconda3/envs/pytorch_p36/lib/python3.6/site-packages/botocore/client.py\u001b[0m in \u001b[0;36m_make_api_call\u001b[0;34m(self, operation_name, api_params)\u001b[0m\n\u001b[1;32m    633\u001b[0m             \u001b[0merror_code\u001b[0m \u001b[0;34m=\u001b[0m \u001b[0mparsed_response\u001b[0m\u001b[0;34m.\u001b[0m\u001b[0mget\u001b[0m\u001b[0;34m(\u001b[0m\u001b[0;34m\"Error\"\u001b[0m\u001b[0;34m,\u001b[0m \u001b[0;34m{\u001b[0m\u001b[0;34m}\u001b[0m\u001b[0;34m)\u001b[0m\u001b[0;34m.\u001b[0m\u001b[0mget\u001b[0m\u001b[0;34m(\u001b[0m\u001b[0;34m\"Code\"\u001b[0m\u001b[0;34m)\u001b[0m\u001b[0;34m\u001b[0m\u001b[0;34m\u001b[0m\u001b[0m\n\u001b[1;32m    634\u001b[0m             \u001b[0merror_class\u001b[0m \u001b[0;34m=\u001b[0m \u001b[0mself\u001b[0m\u001b[0;34m.\u001b[0m\u001b[0mexceptions\u001b[0m\u001b[0;34m.\u001b[0m\u001b[0mfrom_code\u001b[0m\u001b[0;34m(\u001b[0m\u001b[0merror_code\u001b[0m\u001b[0;34m)\u001b[0m\u001b[0;34m\u001b[0m\u001b[0;34m\u001b[0m\u001b[0m\n\u001b[0;32m--> 635\u001b[0;31m             \u001b[0;32mraise\u001b[0m \u001b[0merror_class\u001b[0m\u001b[0;34m(\u001b[0m\u001b[0mparsed_response\u001b[0m\u001b[0;34m,\u001b[0m \u001b[0moperation_name\u001b[0m\u001b[0;34m)\u001b[0m\u001b[0;34m\u001b[0m\u001b[0;34m\u001b[0m\u001b[0m\n\u001b[0m\u001b[1;32m    636\u001b[0m         \u001b[0;32melse\u001b[0m\u001b[0;34m:\u001b[0m\u001b[0;34m\u001b[0m\u001b[0;34m\u001b[0m\u001b[0m\n\u001b[1;32m    637\u001b[0m             \u001b[0;32mreturn\u001b[0m \u001b[0mparsed_response\u001b[0m\u001b[0;34m\u001b[0m\u001b[0;34m\u001b[0m\u001b[0m\n",
      "\u001b[0;31mResourceLimitExceeded\u001b[0m: An error occurred (ResourceLimitExceeded) when calling the CreateTrainingJob operation: The account-level service limit 'ml.p2.xlarge for training job usage' is 0 Instances, with current utilization of 0 Instances and a request delta of 1 Instances. Please contact AWS support to request an increase for this limit."
     ]
    }
   ],
   "source": [
    "estimator.fit({'training': input_data})"
   ]
  },
  {
   "cell_type": "markdown",
   "metadata": {},
   "source": [
    "## Step 5: Testing the model\n",
    "\n",
    "As mentioned at the top of this notebook, we will be testing this model by first deploying it and then sending the testing data to the deployed endpoint. We will do this so that we can make sure that the deployed model is working correctly.\n",
    "\n",
    "## Step 6: Deploy the model for testing\n",
    "\n",
    "Now that we have trained our model, we would like to test it to see how it performs. Currently our model takes input of the form `review_length, review[500]` where `review[500]` is a sequence of `500` integers which describe the words present in the review, encoded using `word_dict`. Fortunately for us, SageMaker provides built-in inference code for models with simple inputs such as this.\n",
    "\n",
    "There is one thing that we need to provide, however, and that is a function which loads the saved model. This function must be called `model_fn()` and takes as its only parameter a path to the directory where the model artifacts are stored. This function must also be present in the python file which we specified as the entry point. In our case the model loading function has been provided and so no changes need to be made.\n",
    "\n",
    "**NOTE**: When the built-in inference code is run it must import the `model_fn()` method from the `train.py` file. This is why the training code is wrapped in a main guard ( ie, `if __name__ == '__main__':` )\n",
    "\n",
    "Since we don't need to change anything in the code that was uploaded during training, we can simply deploy the current model as-is.\n",
    "\n",
    "**NOTE:** When deploying a model you are asking SageMaker to launch an compute instance that will wait for data to be sent to it. As a result, this compute instance will continue to run until *you* shut it down. This is important to know since the cost of a deployed endpoint depends on how long it has been running for.\n",
    "\n",
    "In other words **If you are no longer using a deployed endpoint, shut it down!**\n",
    "\n",
    "**TODO:** Deploy the trained model."
   ]
  },
  {
   "cell_type": "code",
   "execution_count": null,
   "metadata": {},
   "outputs": [],
   "source": [
    "# TODO: Deploy the trained model\n",
    "rnn_predictor = estimator.deploy(initial_instance_count=1, instance_type='ml.p2.xlarge')"
   ]
  },
  {
   "cell_type": "markdown",
   "metadata": {},
   "source": [
    "## Step 7 - Use the model for testing\n",
    "\n",
    "Once deployed, we can read in the test data and send it off to our deployed model to get some results. Once we collect all of the results we can determine how accurate our model is."
   ]
  },
  {
   "cell_type": "code",
   "execution_count": null,
   "metadata": {},
   "outputs": [],
   "source": [
    "test_X = pd.concat([pd.DataFrame(test_X_len), pd.DataFrame(test_X)], axis=1)"
   ]
  },
  {
   "cell_type": "code",
   "execution_count": null,
   "metadata": {},
   "outputs": [],
   "source": [
    "# We split the data into chunks and send each chunk seperately, accumulating the results.\n",
    "\n",
    "def predict(data, rows=512):\n",
    "    split_array = np.array_split(data, int(data.shape[0] / float(rows) + 1))\n",
    "    predictions = np.array([])\n",
    "    for array in split_array:\n",
    "        predictions = np.append(predictions, predictor.predict(array))\n",
    "    \n",
    "    return predictions"
   ]
  },
  {
   "cell_type": "code",
   "execution_count": null,
   "metadata": {},
   "outputs": [],
   "source": [
    "predictions = predict(test_X.values)\n",
    "predictions = [round(num) for num in predictions]"
   ]
  },
  {
   "cell_type": "code",
   "execution_count": null,
   "metadata": {},
   "outputs": [],
   "source": [
    "from sklearn.metrics import accuracy_score\n",
    "accuracy_score(test_y, predictions)"
   ]
  },
  {
   "cell_type": "markdown",
   "metadata": {},
   "source": [
    "**Question:** How does this model compare to the XGBoost model you created earlier? Why might these two models perform differently on this dataset? Which do *you* think is better for sentiment analysis?"
   ]
  },
  {
   "cell_type": "markdown",
   "metadata": {},
   "source": [
    "**Answer:**"
   ]
  },
  {
   "cell_type": "markdown",
   "metadata": {},
   "source": [
    "### (TODO) More testing\n",
    "\n",
    "We now have a trained model which has been deployed and which we can send processed reviews to and which returns the predicted sentiment. However, ultimately we would like to be able to send our model an unprocessed review. That is, we would like to send the review itself as a string. For example, suppose we wish to send the following review to our model."
   ]
  },
  {
   "cell_type": "code",
   "execution_count": null,
   "metadata": {},
   "outputs": [],
   "source": [
    "test_review = 'The simplest pleasures in life are the best, and this film is one of them. Combining a rather basic storyline of love and adventure this movie transcends the usual weekend fair with wit and unmitigated charm.'"
   ]
  },
  {
   "cell_type": "markdown",
   "metadata": {},
   "source": [
    "The question we now need to answer is, how do we send this review to our model?\n",
    "\n",
    "Recall in the first section of this notebook we did a bunch of data processing to the IMDb dataset. In particular, we did two specific things to the provided reviews.\n",
    " - Removed any html tags and stemmed the input\n",
    " - Encoded the review as a sequence of integers using `word_dict`\n",
    " \n",
    "In order process the review we will need to repeat these two steps.\n",
    "\n",
    "**TODO**: Using the `review_to_words` and `convert_and_pad` methods from section one, convert `test_review` into a numpy array `test_data` suitable to send to our model. Remember that our model expects input of the form `review_length, review[500]`."
   ]
  },
  {
   "cell_type": "code",
   "execution_count": null,
   "metadata": {},
   "outputs": [],
   "source": [
    "# TODO: Convert test_review into a form usable by the model and save the results in test_data\n",
    "test_data = review_to_words(test_review)\n",
    "test_data = convert_and_pad(word_dict, test_data)[0]\n",
    "test_data = np.array(test_data)"
   ]
  },
  {
   "cell_type": "markdown",
   "metadata": {},
   "source": [
    "Now that we have processed the review, we can send the resulting array to our model to predict the sentiment of the review."
   ]
  },
  {
   "cell_type": "code",
   "execution_count": null,
   "metadata": {},
   "outputs": [],
   "source": [
    "rnn_predictor.predict(test_data)"
   ]
  },
  {
   "cell_type": "markdown",
   "metadata": {},
   "source": [
    "Since the return value of our model is close to `1`, we can be certain that the review we submitted is positive."
   ]
  },
  {
   "cell_type": "markdown",
   "metadata": {},
   "source": [
    "### Delete the endpoint\n",
    "\n",
    "Of course, just like in the XGBoost notebook, once we've deployed an endpoint it continues to run until we tell it to shut down. Since we are done using our endpoint for now, we can delete it."
   ]
  },
  {
   "cell_type": "code",
   "execution_count": null,
   "metadata": {},
   "outputs": [],
   "source": [
    "estimator.delete_endpoint()"
   ]
  },
  {
   "cell_type": "markdown",
   "metadata": {},
   "source": [
    "## Step 6 (again) - Deploy the model for the web app\n",
    "\n",
    "Now that we know that our model is working, it's time to create some custom inference code so that we can send the model a review which has not been processed and have it determine the sentiment of the review.\n",
    "\n",
    "As we saw above, by default the estimator which we created, when deployed, will use the entry script and directory which we provided when creating the model. However, since we now wish to accept a string as input and our model expects a processed review, we need to write some custom inference code.\n",
    "\n",
    "We will store the code that we write in the `serve` directory. Provided in this directory is the `model.py` file that we used to construct our model, a `utils.py` file which contains the `review_to_words` and `convert_and_pad` pre-processing functions which we used during the initial data processing, and `predict.py`, the file which will contain our custom inference code. Note also that `requirements.txt` is present which will tell SageMaker what Python libraries are required by our custom inference code.\n",
    "\n",
    "When deploying a PyTorch model in SageMaker, you are expected to provide four functions which the SageMaker inference container will use.\n",
    " - `model_fn`: This function is the same function that we used in the training script and it tells SageMaker how to load our model.\n",
    " - `input_fn`: This function receives the raw serialized input that has been sent to the model's endpoint and its job is to de-serialize and make the input available for the inference code.\n",
    " - `output_fn`: This function takes the output of the inference code and its job is to serialize this output and return it to the caller of the model's endpoint.\n",
    " - `predict_fn`: The heart of the inference script, this is where the actual prediction is done and is the function which you will need to complete.\n",
    "\n",
    "For the simple website that we are constructing during this project, the `input_fn` and `output_fn` methods are relatively straightforward. We only require being able to accept a string as input and we expect to return a single value as output. You might imagine though that in a more complex application the input or output may be image data or some other binary data which would require some effort to serialize.\n",
    "\n",
    "### (TODO) Writing inference code\n",
    "\n",
    "Before writing our custom inference code, we will begin by taking a look at the code which has been provided."
   ]
  },
  {
   "cell_type": "code",
   "execution_count": null,
   "metadata": {},
   "outputs": [],
   "source": [
    "!pygmentize serve/predict.py"
   ]
  },
  {
   "cell_type": "markdown",
   "metadata": {},
   "source": [
    "As mentioned earlier, the `model_fn` method is the same as the one provided in the training code and the `input_fn` and `output_fn` methods are very simple and your task will be to complete the `predict_fn` method. Make sure that you save the completed file as `predict.py` in the `serve` directory.\n",
    "\n",
    "**TODO**: Complete the `predict_fn()` method in the `serve/predict.py` file."
   ]
  },
  {
   "cell_type": "markdown",
   "metadata": {},
   "source": [
    "### Deploying the model\n",
    "\n",
    "Now that the custom inference code has been written, we will create and deploy our model. To begin with, we need to construct a new PyTorchModel object which points to the model artifacts created during training and also points to the inference code that we wish to use. Then we can call the deploy method to launch the deployment container.\n",
    "\n",
    "**NOTE**: The default behaviour for a deployed PyTorch model is to assume that any input passed to the predictor is a `numpy` array. In our case we want to send a string so we need to construct a simple wrapper around the `RealTimePredictor` class to accomodate simple strings. In a more complicated situation you may want to provide a serialization object, for example if you wanted to sent image data."
   ]
  },
  {
   "cell_type": "code",
   "execution_count": null,
   "metadata": {},
   "outputs": [],
   "source": [
    "from sagemaker.predictor import RealTimePredictor\n",
    "from sagemaker.pytorch import PyTorchModel\n",
    "\n",
    "class StringPredictor(RealTimePredictor):\n",
    "    def __init__(self, endpoint_name, sagemaker_session):\n",
    "        super(StringPredictor, self).__init__(endpoint_name, sagemaker_session, content_type='text/plain')\n",
    "\n",
    "model = PyTorchModel(model_data=estimator.model_data,\n",
    "                     role = role,\n",
    "                     framework_version='0.4.0',\n",
    "                     entry_point='predict.py',\n",
    "                     source_dir='serve',\n",
    "                     predictor_cls=StringPredictor)\n",
    "predictor = model.deploy(initial_instance_count=1, instance_type='ml.m4.xlarge')"
   ]
  },
  {
   "cell_type": "markdown",
   "metadata": {},
   "source": [
    "### Testing the model\n",
    "\n",
    "Now that we have deployed our model with the custom inference code, we should test to see if everything is working. Here we test our model by loading the first `250` positive and negative reviews and send them to the endpoint, then collect the results. The reason for only sending some of the data is that the amount of time it takes for our model to process the input and then perform inference is quite long and so testing the entire data set would be prohibitive."
   ]
  },
  {
   "cell_type": "code",
   "execution_count": null,
   "metadata": {},
   "outputs": [],
   "source": [
    "import glob\n",
    "\n",
    "def test_reviews(data_dir='../data/aclImdb', stop=250):\n",
    "    \n",
    "    results = []\n",
    "    ground = []\n",
    "    \n",
    "    # We make sure to test both positive and negative reviews    \n",
    "    for sentiment in ['pos', 'neg']:\n",
    "        \n",
    "        path = os.path.join(data_dir, 'test', sentiment, '*.txt')\n",
    "        files = glob.glob(path)\n",
    "        \n",
    "        files_read = 0\n",
    "        \n",
    "        print('Starting ', sentiment, ' files')\n",
    "        \n",
    "        # Iterate through the files and send them to the predictor\n",
    "        for f in files:\n",
    "            with open(f) as review:\n",
    "                # First, we store the ground truth (was the review positive or negative)\n",
    "                if sentiment == 'pos':\n",
    "                    ground.append(1)\n",
    "                else:\n",
    "                    ground.append(0)\n",
    "                # Read in the review and convert to 'utf-8' for transmission via HTTP\n",
    "                review_input = review.read().encode('utf-8')\n",
    "                # Send the review to the predictor and store the results\n",
    "                results.append(int(predictor.predict(review_input)))\n",
    "                \n",
    "            # Sending reviews to our endpoint one at a time takes a while so we\n",
    "            # only send a small number of reviews\n",
    "            files_read += 1\n",
    "            if files_read == stop:\n",
    "                break\n",
    "            \n",
    "    return ground, results"
   ]
  },
  {
   "cell_type": "code",
   "execution_count": null,
   "metadata": {},
   "outputs": [],
   "source": [
    "ground, results = test_reviews()"
   ]
  },
  {
   "cell_type": "code",
   "execution_count": null,
   "metadata": {},
   "outputs": [],
   "source": [
    "from sklearn.metrics import accuracy_score\n",
    "accuracy_score(ground, results)"
   ]
  },
  {
   "cell_type": "markdown",
   "metadata": {},
   "source": [
    "As an additional test, we can try sending the `test_review` that we looked at earlier."
   ]
  },
  {
   "cell_type": "code",
   "execution_count": null,
   "metadata": {},
   "outputs": [],
   "source": [
    "predictor.predict(test_review)"
   ]
  },
  {
   "cell_type": "markdown",
   "metadata": {},
   "source": [
    "Now that we know our endpoint is working as expected, we can set up the web page that will interact with it. If you don't have time to finish the project now, make sure to skip down to the end of this notebook and shut down your endpoint. You can deploy it again when you come back."
   ]
  },
  {
   "cell_type": "markdown",
   "metadata": {},
   "source": [
    "## Step 7 (again): Use the model for the web app\n",
    "\n",
    "> **TODO:** This entire section and the next contain tasks for you to complete, mostly using the AWS console.\n",
    "\n",
    "So far we have been accessing our model endpoint by constructing a predictor object which uses the endpoint and then just using the predictor object to perform inference. What if we wanted to create a web app which accessed our model? The way things are set up currently makes that not possible since in order to access a SageMaker endpoint the app would first have to authenticate with AWS using an IAM role which included access to SageMaker endpoints. However, there is an easier way! We just need to use some additional AWS services.\n",
    "\n",
    "<img src=\"Web App Diagram.svg\">\n",
    "\n",
    "The diagram above gives an overview of how the various services will work together. On the far right is the model which we trained above and which is deployed using SageMaker. On the far left is our web app that collects a user's movie review, sends it off and expects a positive or negative sentiment in return.\n",
    "\n",
    "In the middle is where some of the magic happens. We will construct a Lambda function, which you can think of as a straightforward Python function that can be executed whenever a specified event occurs. We will give this function permission to send and recieve data from a SageMaker endpoint.\n",
    "\n",
    "Lastly, the method we will use to execute the Lambda function is a new endpoint that we will create using API Gateway. This endpoint will be a url that listens for data to be sent to it. Once it gets some data it will pass that data on to the Lambda function and then return whatever the Lambda function returns. Essentially it will act as an interface that lets our web app communicate with the Lambda function.\n",
    "\n",
    "### Setting up a Lambda function\n",
    "\n",
    "The first thing we are going to do is set up a Lambda function. This Lambda function will be executed whenever our public API has data sent to it. When it is executed it will receive the data, perform any sort of processing that is required, send the data (the review) to the SageMaker endpoint we've created and then return the result.\n",
    "\n",
    "#### Part A: Create an IAM Role for the Lambda function\n",
    "\n",
    "Since we want the Lambda function to call a SageMaker endpoint, we need to make sure that it has permission to do so. To do this, we will construct a role that we can later give the Lambda function.\n",
    "\n",
    "Using the AWS Console, navigate to the **IAM** page and click on **Roles**. Then, click on **Create role**. Make sure that the **AWS service** is the type of trusted entity selected and choose **Lambda** as the service that will use this role, then click **Next: Permissions**.\n",
    "\n",
    "In the search box type `sagemaker` and select the check box next to the **AmazonSageMakerFullAccess** policy. Then, click on **Next: Review**.\n",
    "\n",
    "Lastly, give this role a name. Make sure you use a name that you will remember later on, for example `LambdaSageMakerRole`. Then, click on **Create role**.\n",
    "\n",
    "#### Part B: Create a Lambda function\n",
    "\n",
    "Now it is time to actually create the Lambda function.\n",
    "\n",
    "Using the AWS Console, navigate to the AWS Lambda page and click on **Create a function**. When you get to the next page, make sure that **Author from scratch** is selected. Now, name your Lambda function, using a name that you will remember later on, for example `sentiment_analysis_func`. Make sure that the **Python 3.6** runtime is selected and then choose the role that you created in the previous part. Then, click on **Create Function**.\n",
    "\n",
    "On the next page you will see some information about the Lambda function you've just created. If you scroll down you should see an editor in which you can write the code that will be executed when your Lambda function is triggered. In our example, we will use the code below. \n",
    "\n",
    "```python\n",
    "# We need to use the low-level library to interact with SageMaker since the SageMaker API\n",
    "# is not available natively through Lambda.\n",
    "import boto3\n",
    "\n",
    "def lambda_handler(event, context):\n",
    "\n",
    "    # The SageMaker runtime is what allows us to invoke the endpoint that we've created.\n",
    "    runtime = boto3.Session().client('sagemaker-runtime')\n",
    "\n",
    "    # Now we use the SageMaker runtime to invoke our endpoint, sending the review we were given\n",
    "    response = runtime.invoke_endpoint(EndpointName = '**ENDPOINT NAME HERE**',    # The name of the endpoint we created\n",
    "                                       ContentType = 'text/plain',                 # The data format that is expected\n",
    "                                       Body = event['body'])                       # The actual review\n",
    "\n",
    "    # The response is an HTTP response whose body contains the result of our inference\n",
    "    result = response['Body'].read().decode('utf-8')\n",
    "\n",
    "    return {\n",
    "        'statusCode' : 200,\n",
    "        'headers' : { 'Content-Type' : 'text/plain', 'Access-Control-Allow-Origin' : '*' },\n",
    "        'body' : result\n",
    "    }\n",
    "```\n",
    "\n",
    "Once you have copy and pasted the code above into the Lambda code editor, replace the `**ENDPOINT NAME HERE**` portion with the name of the endpoint that we deployed earlier. You can determine the name of the endpoint using the code cell below."
   ]
  },
  {
   "cell_type": "code",
   "execution_count": null,
   "metadata": {},
   "outputs": [],
   "source": [
    "predictor.endpoint"
   ]
  },
  {
   "cell_type": "markdown",
   "metadata": {},
   "source": [
    "Once you have added the endpoint name to the Lambda function, click on **Save**. Your Lambda function is now up and running. Next we need to create a way for our web app to execute the Lambda function.\n",
    "\n",
    "### Setting up API Gateway\n",
    "\n",
    "Now that our Lambda function is set up, it is time to create a new API using API Gateway that will trigger the Lambda function we have just created.\n",
    "\n",
    "Using AWS Console, navigate to **Amazon API Gateway** and then click on **Get started**.\n",
    "\n",
    "On the next page, make sure that **New API** is selected and give the new api a name, for example, `sentiment_analysis_api`. Then, click on **Create API**.\n",
    "\n",
    "Now we have created an API, however it doesn't currently do anything. What we want it to do is to trigger the Lambda function that we created earlier.\n",
    "\n",
    "Select the **Actions** dropdown menu and click **Create Method**. A new blank method will be created, select its dropdown menu and select **POST**, then click on the check mark beside it.\n",
    "\n",
    "For the integration point, make sure that **Lambda Function** is selected and click on the **Use Lambda Proxy integration**. This option makes sure that the data that is sent to the API is then sent directly to the Lambda function with no processing. It also means that the return value must be a proper response object as it will also not be processed by API Gateway.\n",
    "\n",
    "Type the name of the Lambda function you created earlier into the **Lambda Function** text entry box and then click on **Save**. Click on **OK** in the pop-up box that then appears, giving permission to API Gateway to invoke the Lambda function you created.\n",
    "\n",
    "The last step in creating the API Gateway is to select the **Actions** dropdown and click on **Deploy API**. You will need to create a new Deployment stage and name it anything you like, for example `prod`.\n",
    "\n",
    "You have now successfully set up a public API to access your SageMaker model. Make sure to copy or write down the URL provided to invoke your newly created public API as this will be needed in the next step. This URL can be found at the top of the page, highlighted in blue next to the text **Invoke URL**."
   ]
  },
  {
   "cell_type": "markdown",
   "metadata": {},
   "source": [
    "## Step 4: Deploying our web app\n",
    "\n",
    "Now that we have a publicly available API, we can start using it in a web app. For our purposes, we have provided a simple static html file which can make use of the public api you created earlier.\n",
    "\n",
    "In the `website` folder there should be a file called `index.html`. Download the file to your computer and open that file up in a text editor of your choice. There should be a line which contains **\\*\\*REPLACE WITH PUBLIC API URL\\*\\***. Replace this string with the url that you wrote down in the last step and then save the file.\n",
    "\n",
    "Now, if you open `index.html` on your local computer, your browser will behave as a local web server and you can use the provided site to interact with your SageMaker model.\n",
    "\n",
    "If you'd like to go further, you can host this html file anywhere you'd like, for example using github or hosting a static site on Amazon's S3. Once you have done this you can share the link with anyone you'd like and have them play with it too!\n",
    "\n",
    "> **Important Note** In order for the web app to communicate with the SageMaker endpoint, the endpoint has to actually be deployed and running. This means that you are paying for it. Make sure that the endpoint is running when you want to use the web app but that you shut it down when you don't need it, otherwise you will end up with a surprisingly large AWS bill.\n",
    "\n",
    "**TODO:** Make sure that you include the edited `index.html` file in your project submission."
   ]
  },
  {
   "cell_type": "markdown",
   "metadata": {},
   "source": [
    "Now that your web app is working, trying playing around with it and see how well it works.\n",
    "\n",
    "**Question**: Give an example of a review that you entered into your web app. What was the predicted sentiment of your example review?"
   ]
  },
  {
   "cell_type": "markdown",
   "metadata": {},
   "source": [
    "**Answer:**"
   ]
  },
  {
   "cell_type": "markdown",
   "metadata": {},
   "source": [
    "### Delete the endpoint\n",
    "\n",
    "Remember to always shut down your endpoint if you are no longer using it. You are charged for the length of time that the endpoint is running so if you forget and leave it on you could end up with an unexpectedly large bill."
   ]
  },
  {
   "cell_type": "code",
   "execution_count": null,
   "metadata": {},
   "outputs": [],
   "source": [
    "predictor.delete_endpoint()"
   ]
  },
  {
   "cell_type": "code",
   "execution_count": null,
   "metadata": {},
   "outputs": [],
   "source": []
  }
 ],
 "metadata": {
  "kernelspec": {
   "display_name": "conda_pytorch_p36",
   "language": "python",
   "name": "conda_pytorch_p36"
  },
  "language_info": {
   "codemirror_mode": {
    "name": "ipython",
    "version": 3
   },
   "file_extension": ".py",
   "mimetype": "text/x-python",
   "name": "python",
   "nbconvert_exporter": "python",
   "pygments_lexer": "ipython3",
   "version": "3.6.10"
  }
 },
 "nbformat": 4,
 "nbformat_minor": 2
}
